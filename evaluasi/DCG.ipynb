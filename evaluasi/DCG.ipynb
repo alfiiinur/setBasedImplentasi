{
 "cells": [
  {
   "cell_type": "code",
   "execution_count": null,
   "metadata": {},
   "outputs": [],
   "source": [
    "def DCGALL(base_input_dir, base_output_dir, dataset_dir, N=20):\n",
    "    for fold in range(1, 6):\n",
    "        print(f\"\\n🔄 Processing Fold {fold}...\")\n",
    "\n",
    "        # Load calTest dan convert ke list ground truth\n",
    "        testdata = load_Dataset(dataset_dir, fold)\n",
    "        dataTestUniq = uniqDataTest(testdata)\n",
    "\n",
    "        fold_input_path = os.path.join(base_input_dir, str(fold))\n",
    "        fold_output_path = os.path.join(base_output_dir, str(fold))\n",
    "        os.makedirs(fold_output_path, exist_ok=True)\n",
    "\n",
    "        # Loop semua file .joblib di folder fold ini\n",
    "        for filename in os.listdir(fold_input_path):\n",
    "            if filename.endswith(\".joblib\"):\n",
    "                filepath = os.path.join(fold_input_path, filename)\n",
    "\n",
    "                try:\n",
    "                    print(f\"   Processing: {filename}\")\n",
    "                    openTopN = joblib.load(filepath)\n",
    "                    calDCGN = dcgN2(dataTestUniq, openTopN, N)\n",
    "\n",
    "                    # Simpan hasil DCGN\n",
    "                    result_name = filename.replace(\".joblib\", \"_dcg.joblib\")\n",
    "                    result_path = os.path.join(fold_output_path, result_name)\n",
    "                    # joblib.dump(calDCGN, result_path)\n",
    "                    # print(f\"     Saved to: {result_path}\")\n",
    "\n",
    "                    # Simpan hasil to execel\n",
    "                    excel_name = filename.replace(\".joblib\", \"_dcg.xlsx\")\n",
    "                    excel_path = os.path.join(fold_output_path, excel_name)\n",
    "                    calDCGN.to_excel(excel_path)\n",
    "\n",
    "                except Exception as e:\n",
    "                    print(f\"   Error processing {filename}: {e}\")"
   ]
  },
  {
   "cell_type": "markdown",
   "metadata": {},
   "source": [
    "#### JACCARD "
   ]
  },
  {
   "cell_type": "code",
   "execution_count": null,
   "metadata": {},
   "outputs": [],
   "source": [
    "# calProses = DCGALL(\n",
    "#     \"../case/topN/Jac/topNUser\", \n",
    "#     \"../case/DCG/Jac/user\", \n",
    "#     \"../ml-100k\",\n",
    "#     N=20\n",
    "# )"
   ]
  },
  {
   "cell_type": "code",
   "execution_count": null,
   "metadata": {},
   "outputs": [],
   "source": [
    "# calProses = DCGALL(\n",
    "#     \"../case/topN/Jac/topNItem\", \n",
    "#     \"../case/DCG/Jac/item\", \n",
    "#     \"../ml-100k\",\n",
    "#     N=20\n",
    "# )"
   ]
  },
  {
   "cell_type": "markdown",
   "metadata": {},
   "source": [
    "#### RJ "
   ]
  },
  {
   "cell_type": "code",
   "execution_count": null,
   "metadata": {},
   "outputs": [],
   "source": [
    "# calProsesRJ = DCGALL(\n",
    "#     \"../case/topN/RJ/topNUser\", \n",
    "#     \"../case/DCG/RJ/user\", \n",
    "#     \"../ml-100k\",\n",
    "#     N=20\n",
    "# )"
   ]
  },
  {
   "cell_type": "code",
   "execution_count": null,
   "metadata": {},
   "outputs": [],
   "source": [
    "# calProsesRJ = DCGALL(\n",
    "#     \"../case/topN/RJ/topNItem\", \n",
    "#     \"../case/DCG/RJ/item\", \n",
    "#     \"../ml-100k\",\n",
    "#     N=20\n",
    "# )"
   ]
  },
  {
   "cell_type": "markdown",
   "metadata": {},
   "source": [
    "#### HYBRID  "
   ]
  },
  {
   "cell_type": "code",
   "execution_count": null,
   "metadata": {},
   "outputs": [],
   "source": [
    "# calProses = DCGALL(\n",
    "#     \"../case/topN/Jac/topNHybrid\", \n",
    "#     \"../case/DCG/Jac/hybrid\", \n",
    "#     \"../ml-100k\",\n",
    "#     N=20\n",
    "# )"
   ]
  },
  {
   "cell_type": "code",
   "execution_count": null,
   "metadata": {},
   "outputs": [],
   "source": [
    "# calProses = DCGALL(\n",
    "#     \"../case/topN/RJ/topNHybrid\", \n",
    "#     \"../case/DCG/RJ/hybrid\", \n",
    "#     \"../ml-100k\",\n",
    "#     N=20\n",
    "# )"
   ]
  },
  {
   "cell_type": "markdown",
   "metadata": {},
   "source": [
    "#### HYBRID TERBAIK "
   ]
  },
  {
   "cell_type": "code",
   "execution_count": null,
   "metadata": {},
   "outputs": [],
   "source": [
    "# calProses = DCGALL(\n",
    "#     \"../case/topN/Jac/topNhybridTerbaik\", \n",
    "#     \"../case/DCG/Jac/hybridTerbaik\", \n",
    "#     \"../ml-100k\",\n",
    "#     N=20\n",
    "# )"
   ]
  },
  {
   "cell_type": "code",
   "execution_count": null,
   "metadata": {},
   "outputs": [],
   "source": [
    "# calProses = DCGALL(\n",
    "#     \"../case/topN/RJ/topNhybridTerbaik\", \n",
    "#     \"../case/DCG/RJ/hybridTerbaik\", \n",
    "#     \"../ml-100k\",\n",
    "#     N=20\n",
    "# )"
   ]
  },
  {
   "cell_type": "code",
   "execution_count": null,
   "metadata": {},
   "outputs": [],
   "source": [
    "import pandas as pd\n",
    "import joblib\n",
    "\n",
    "# Parameter\n",
    "values1 = 5\n",
    "values2 = 10\n",
    "values3 = 1\n",
    "\n",
    "# Untuk menyimpan hasil rata-rata tiap fold\n",
    "all_avg_rows = []\n",
    "\n",
    "# Loop untuk 5 fold\n",
    "for fold in range(1, 6):\n",
    "    filepath = f\"../case/DCG/Jac/hybridTerbaik/{fold}/{values1}_{values2}_{values3}_dcg.joblib\"\n",
    "    df = joblib.load(filepath)\n",
    "    \n",
    "    # Ambil baris 'Rata-rata'\n",
    "    avg_row = df.loc[\"Rata-rata\"].copy()\n",
    "    \n",
    "    # Simpan info fold\n",
    "    avg_row[\"Fold\"] = f\"Fold {fold}\"\n",
    "    \n",
    "    # Hitung rata-rata across DCG columns\n",
    "    dcg_cols = [col for col in avg_row.index if col.startswith(\"DCG@\")]\n",
    "    avg_row[\"Avg\"] = avg_row[dcg_cols].astype(float).mean()\n",
    "    \n",
    "    all_avg_rows.append(avg_row)\n",
    "\n",
    "# Konversi ke DataFrame\n",
    "final_df = pd.DataFrame(all_avg_rows)\n",
    "\n",
    "# Hitung rata-rata akhir untuk semua fold (kolom DCG dan kolom \"Avg\")\n",
    "numeric_cols = [col for col in final_df.columns if col.startswith(\"DCG@\")] + [\"Avg\"]\n",
    "value_cols = final_df[numeric_cols].astype(float)\n",
    "mean_row = value_cols.mean().to_dict()\n",
    "mean_row[\"Fold\"] = \"Rata-rata\"\n",
    "\n",
    "# Tambahkan ke DataFrame\n",
    "final_df = pd.concat([final_df, pd.DataFrame([mean_row])], ignore_index=True)\n",
    "\n",
    "# Atur ulang kolom agar \"Fold\" di depan\n",
    "cols = [\"Fold\"] + [col for col in final_df.columns if col != \"Fold\"]\n",
    "final_df = final_df[cols]\n",
    "\n",
    "# fold mana yang terbaik\n",
    "best_fold = final_df.loc[final_df[\"Avg\"].idxmax()]\n",
    "print(f\"Fold terbaik: {best_fold['Fold']}, dengan rata-rata DCG: {best_fold['Avg']}\")\n",
    "\n",
    "\n",
    "# Tampilkan hasil\n",
    "final_df\n"
   ]
  }
 ],
 "metadata": {
  "kernelspec": {
   "display_name": "Python 3",
   "language": "python",
   "name": "python3"
  },
  "language_info": {
   "name": "python",
   "version": "3.9.7"
  }
 },
 "nbformat": 4,
 "nbformat_minor": 2
}
