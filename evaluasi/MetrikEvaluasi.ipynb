{
 "cells": [
  {
   "cell_type": "code",
   "execution_count": null,
   "id": "216ecf6b",
   "metadata": {},
   "outputs": [],
   "source": [
    "# suatu sistem rekomendasi dapat dikatakan memiliki akurasi yang tinggi apabila semakin banyak GT item yang dapat dengan tepat direkomendasikan pada rangking teratas"
   ]
  },
  {
   "cell_type": "code",
   "execution_count": 1,
   "id": "18211d35",
   "metadata": {},
   "outputs": [],
   "source": [
    "# import \n",
    "\n",
    "import pandas as pd \n",
    "import numpy as np \n",
    "import math as math\n",
    "import joblib\n",
    "from joblib import dump\n",
    "import os\n",
    "import time"
   ]
  },
  {
   "cell_type": "markdown",
   "id": "ae6ea790",
   "metadata": {},
   "source": [
    "## PRECISION\n",
    "\n",
    "$$ Precision(Gt_u, TopN_u, N) = \\frac{\\left| TopN_u \\cap GT_u \\right|}{\\left| TopN_u(N) \\right|} $$\n",
    "$$ TopN_u(N) = N, sehingga $$\n",
    "$$ Precision(Gt_u, TopN_u, N) = \\frac{\\left| TopN_u \\cap GT_u \\right|}{\\left| N \\right|} $$"
   ]
  },
  {
   "cell_type": "code",
   "execution_count": 82,
   "id": "efa5c830",
   "metadata": {},
   "outputs": [],
   "source": [
    "# toy data \n",
    "gt_user1 = [1, 2, 3, 4, 11, 12]  # ground truth relevan\n",
    "topn_user1 = [1, 5, 2, 3, 15, 4]  # hasil rekomendasi sistem\n",
    "\n",
    "\n",
    "def Precision(GroundTruth, TopN, N):\n",
    "    rumusPrecision = len(np.intersect1d(TopN[:N], GroundTruth)) / N\n",
    "    print(len(np.intersect1d(TopN[:N], GroundTruth)))\n",
    "    # print(rumusPrecision)\n",
    "    return rumusPrecision"
   ]
  },
  {
   "cell_type": "code",
   "execution_count": 86,
   "id": "bc96d420",
   "metadata": {},
   "outputs": [
    {
     "name": "stdout",
     "output_type": "stream",
     "text": [
      "2\n",
      "0.6666666666666666\n"
     ]
    }
   ],
   "source": [
    "calPrecsionMatrik = Precision(gt_user1, topn_user1, 3)\n",
    "print(calPrecsionMatrik)"
   ]
  },
  {
   "cell_type": "markdown",
   "id": "97d5663e",
   "metadata": {},
   "source": [
    "## RECALL\n",
    "\n",
    "\n",
    "$$ Recall(GT_u, TopN_u, N) = \\frac{\\left| TopN_u \\cap GT_u \\right|}{\\left| GT(N) \\right|} $$"
   ]
  },
  {
   "cell_type": "code",
   "execution_count": 25,
   "id": "1d941a8a",
   "metadata": {},
   "outputs": [],
   "source": [
    "\n",
    "def Recall(GT, TopN, N):\n",
    "    rumusRecall = len(np.intersect1d(TopN[:N], GT)) / len(set(GT))\n",
    "    print(rumusRecall)\n",
    "    return(rumusRecall)"
   ]
  },
  {
   "cell_type": "code",
   "execution_count": 26,
   "id": "5f556b47",
   "metadata": {},
   "outputs": [
    {
     "name": "stdout",
     "output_type": "stream",
     "text": [
      "0.6\n"
     ]
    }
   ],
   "source": [
    "calRecalMatriks = Recall(gt_user1, topn_user1, 4)"
   ]
  },
  {
   "cell_type": "markdown",
   "id": "56b02945",
   "metadata": {},
   "source": [
    "## F1 SCORE\n",
    "\n",
    "$$ f1Score(GT_u, TopN_u, N) = \\frac{\\left| 2 * Precision(Gt_u, TopN_u, N) * Recall(Gt_u, TopN_u, N)  \\right|}{\\left| Precision(Gt_u, TopN_u, N) + Recall(Gt_u, TopN_u, N)  \\right|} $$"
   ]
  },
  {
   "cell_type": "code",
   "execution_count": 27,
   "id": "03e33007",
   "metadata": {},
   "outputs": [],
   "source": [
    "def F1Score(GT, TopN, N):\n",
    "    precision = Precision(GT, TopN, N)\n",
    "    recall = Recall(GT, TopN, N)\n",
    "    rumusF1Score = ((2 * precision * recall) / (precision + recall)) \n",
    "    if precision > 0 and recall > 0: \n",
    "        rumusF1Score = rumusF1Score\n",
    "    else :\n",
    "        rumusF1Score = 0\n",
    "    print(rumusF1Score)\n",
    "    return rumusF1Score\n",
    "    "
   ]
  },
  {
   "cell_type": "code",
   "execution_count": 28,
   "id": "d50ccea8",
   "metadata": {},
   "outputs": [
    {
     "name": "stdout",
     "output_type": "stream",
     "text": [
      "0.6\n",
      "0.6666666666666665\n"
     ]
    }
   ],
   "source": [
    "calF1Score = F1Score(gt_user1, topn_user1, 4)"
   ]
  },
  {
   "cell_type": "markdown",
   "id": "bf3dd7d8",
   "metadata": {},
   "source": [
    "## AP(Average Precision)\n",
    "\n",
    "\n",
    "$$\n",
    "AP(GT_u, TopN_u, N) = \\frac{1}{|GT_u|} \\sum_{n=1}^{N} Precision(GT_u, TopN_u, N)  \\cdot \\parallel (TopN_u(n) \\in  GT_u) $$\n",
    "\n"
   ]
  },
  {
   "cell_type": "code",
   "execution_count": 29,
   "id": "92e8763c",
   "metadata": {},
   "outputs": [],
   "source": [
    "def AP(GT, TopN, N):\n",
    "    aPrecision = np.array([Precision(GT, TopN, N=x) for x in range(1, N+1)])\n",
    "    bGroundTruth = np.array([np.sum(np.where(tp == GT, 1, 0)) for tp in TopN[:N]])\n",
    "    rumusAP = (1/len(GT) * np.sum(aPrecision * bGroundTruth))\n",
    "    print(rumusAP)\n",
    "    return rumusAP"
   ]
  },
  {
   "cell_type": "code",
   "execution_count": 30,
   "id": "040f0fa3",
   "metadata": {},
   "outputs": [
    {
     "name": "stdout",
     "output_type": "stream",
     "text": [
      "0.0\n"
     ]
    }
   ],
   "source": [
    "calAPMatriks = AP(gt_user1, topn_user1, 4)"
   ]
  },
  {
   "cell_type": "markdown",
   "id": "a1ee5c82",
   "metadata": {},
   "source": [
    "## MSE\n",
    "\n",
    "$$ MSE = \\frac{\\sum_{(u,i)\\in GT^{e^{2}}ui}^{}}{\\left| GT \\right|} $$\n",
    "\n",
    "$$ dimana, e = r_{ui} - \\hat{r_{ui}} $$"
   ]
  },
  {
   "cell_type": "code",
   "execution_count": 52,
   "id": "d4d66684",
   "metadata": {},
   "outputs": [],
   "source": [
    "## toy data\n",
    "gt = [2, 4, 6, 3]\n",
    "pred = [2.5, 5.4, 4.3, 1]\n"
   ]
  },
  {
   "cell_type": "code",
   "execution_count": 46,
   "id": "d289e9b5",
   "metadata": {},
   "outputs": [],
   "source": [
    "def MSE(groundTruth, ratingPrediksi):\n",
    "    # Convert lists to NumPy arrays\n",
    "    groundTruth_np = np.array(groundTruth)\n",
    "    ratingPrediksi_np = np.array(ratingPrediksi)\n",
    "    \n",
    "    # Calculate MSE correctly: mean of the squared differences\n",
    "    rumusMSE = np.mean((groundTruth_np - ratingPrediksi_np) ** 2)\n",
    "    return rumusMSE"
   ]
  },
  {
   "cell_type": "code",
   "execution_count": 55,
   "id": "21e97e16",
   "metadata": {},
   "outputs": [
    {
     "name": "stdout",
     "output_type": "stream",
     "text": [
      "2.2750000000000004\n"
     ]
    }
   ],
   "source": [
    "calMSE = MSE(gt, pred)\n",
    "print(calMSE)"
   ]
  },
  {
   "cell_type": "markdown",
   "id": "d2f58f5a",
   "metadata": {},
   "source": [
    "## RMSE\n",
    "\n",
    "$$ RMSE = \\sqrt{\\frac{\\sum_{(u,i)\\in GT^{e^{2}}ui}^{}}{\\left| GT \\right|}} $$\n",
    "\n",
    "\n",
    "$$ dimana, e = r_{ui} - \\hat{r_{ui}} $$"
   ]
  },
  {
   "cell_type": "code",
   "execution_count": 59,
   "id": "fc6b1c77",
   "metadata": {},
   "outputs": [],
   "source": [
    "def RMSE (groundTruth, ratingPrediksi):\n",
    "    rumusRMSE = np.sqrt(MSE(groundTruth, ratingPrediksi))\n",
    "    return rumusRMSE"
   ]
  },
  {
   "cell_type": "code",
   "execution_count": 60,
   "id": "b61fcd5e",
   "metadata": {},
   "outputs": [
    {
     "name": "stdout",
     "output_type": "stream",
     "text": [
      "1.5083103128998356\n"
     ]
    }
   ],
   "source": [
    "calMSE = RMSE(gt, pred)\n",
    "print(calMSE)"
   ]
  },
  {
   "cell_type": "markdown",
   "id": "ec421f6c",
   "metadata": {},
   "source": [
    "## MAE\n",
    "\n",
    "\n",
    "$$ MAE = \\frac{\\sum_{(u,i) \\in  E}^{}\\left| e_{ui} \\right|}{\\left| E \\right|} $$"
   ]
  },
  {
   "cell_type": "code",
   "execution_count": 61,
   "id": "ee28fab1",
   "metadata": {},
   "outputs": [],
   "source": [
    "def MAE (groundTruth, ratingPrediksi):\n",
    "    groundTruth_np = np.array(groundTruth)\n",
    "    ratingPrediksi_np = np.array(ratingPrediksi)\n",
    "    rumusMAE = np.mean(np.abs(groundTruth_np - ratingPrediksi_np))\n",
    "    return rumusMAE"
   ]
  },
  {
   "cell_type": "code",
   "execution_count": 63,
   "id": "a06a2835",
   "metadata": {},
   "outputs": [
    {
     "name": "stdout",
     "output_type": "stream",
     "text": [
      "1.4000000000000001\n"
     ]
    }
   ],
   "source": [
    "calMAE = MAE(gt, pred)\n",
    "print(calMAE)"
   ]
  },
  {
   "cell_type": "markdown",
   "id": "239605b3",
   "metadata": {},
   "source": [
    "## NRMSE\n",
    "\n",
    "$$ NRMSE = \\frac {RMSE}{r_{max} - r_{min}} $$"
   ]
  },
  {
   "cell_type": "code",
   "execution_count": 66,
   "id": "58a49c64",
   "metadata": {},
   "outputs": [],
   "source": [
    "def NRMSE(groundTruth, ratingPrediksi):\n",
    "    groundTruth_np = np.array(groundTruth)\n",
    "    ratingPrediksi_np = np.array(ratingPrediksi)\n",
    "    rumusNRMSE = RMSE(groundTruth_np, ratingPrediksi_np) / (groundTruth_np.max() - groundTruth_np.min())\n",
    "    return rumusNRMSE"
   ]
  },
  {
   "cell_type": "code",
   "execution_count": 67,
   "id": "9b2a9c27",
   "metadata": {},
   "outputs": [
    {
     "name": "stdout",
     "output_type": "stream",
     "text": [
      "0.3770775782249589\n"
     ]
    }
   ],
   "source": [
    "calNRMSE = NRMSE(gt, pred)\n",
    "print(calNRMSE)"
   ]
  },
  {
   "cell_type": "markdown",
   "id": "4cfa43d1",
   "metadata": {},
   "source": [
    "## NMAE\n",
    "\n",
    "$$ NMAE = \\frac {MAE}{r_{max} - r_{min}} $$ "
   ]
  },
  {
   "cell_type": "code",
   "execution_count": 68,
   "id": "8a19d4dd",
   "metadata": {},
   "outputs": [],
   "source": [
    "def NMAE(groundTruth, ratingPrediksi):\n",
    "    groundTruth_np = np.array(groundTruth)\n",
    "    ratingPrediksi_np = np.array(ratingPrediksi)\n",
    "    rumusNMAE = MAE(groundTruth_np, ratingPrediksi_np) / (groundTruth_np.max() - groundTruth_np.min())\n",
    "    return rumusNMAE"
   ]
  },
  {
   "cell_type": "code",
   "execution_count": 69,
   "id": "472c53dc",
   "metadata": {},
   "outputs": [
    {
     "name": "stdout",
     "output_type": "stream",
     "text": [
      "0.35000000000000003\n"
     ]
    }
   ],
   "source": [
    "calNMAE = NMAE(gt, pred)\n",
    "print(calNMAE)"
   ]
  }
 ],
 "metadata": {
  "kernelspec": {
   "display_name": "Python 3",
   "language": "python",
   "name": "python3"
  },
  "language_info": {
   "codemirror_mode": {
    "name": "ipython",
    "version": 3
   },
   "file_extension": ".py",
   "mimetype": "text/x-python",
   "name": "python",
   "nbconvert_exporter": "python",
   "pygments_lexer": "ipython3",
   "version": "3.9.7"
  }
 },
 "nbformat": 4,
 "nbformat_minor": 5
}
