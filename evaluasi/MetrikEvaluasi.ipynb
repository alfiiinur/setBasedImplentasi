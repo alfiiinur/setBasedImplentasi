{
 "cells": [
  {
   "cell_type": "code",
   "execution_count": 99,
   "id": "216ecf6b",
   "metadata": {},
   "outputs": [],
   "source": [
    "# suatu sistem rekomendasi dapat dikatakan memiliki akurasi yang tinggi apabila semakin banyak GT item yang dapat dengan tepat direkomendasikan pada rangking teratas"
   ]
  },
  {
   "cell_type": "code",
   "execution_count": 100,
   "id": "18211d35",
   "metadata": {},
   "outputs": [],
   "source": [
    "# import \n",
    "\n",
    "import pandas as pd \n",
    "import numpy as np \n",
    "import math as math\n",
    "import joblib\n",
    "from joblib import dump\n",
    "import os\n",
    "import time"
   ]
  },
  {
   "cell_type": "markdown",
   "id": "ae6ea790",
   "metadata": {},
   "source": [
    "## PRECISION\n",
    "\n",
    "$$ Precision(Gt_u, TopN_u, N) = \\frac{\\left| TopN_u \\cap GT_u \\right|}{\\left| TopN_u(N) \\right|} $$\n",
    "$$ TopN_u(N) = N, sehingga $$\n",
    "$$ Precision(Gt_u, TopN_u, N) = \\frac{\\left| TopN_u \\cap GT_u \\right|}{\\left| N \\right|} $$"
   ]
  },
  {
   "cell_type": "code",
   "execution_count": 101,
   "id": "efa5c830",
   "metadata": {},
   "outputs": [],
   "source": [
    "# toy data \n",
    "gt_user1 = [1, 2, 3, 4, 11, 12]  # ground truth relevan\n",
    "topn_user1 = [1, 5, 2, 3, 15, 4]  # hasil rekomendasi sistem\n",
    "\n",
    "\n",
    "def Precision(GroundTruth, TopN, N):\n",
    "    rumusPrecision = len(np.intersect1d(TopN[:N], GroundTruth)) / N\n",
    "    print(len(np.intersect1d(TopN[:N], GroundTruth)))\n",
    "    print((np.intersect1d(TopN[:N], GroundTruth)))\n",
    "    # print(rumusPrecision)\n",
    "    return rumusPrecision"
   ]
  },
  {
   "cell_type": "code",
   "execution_count": 102,
   "id": "bc96d420",
   "metadata": {},
   "outputs": [
    {
     "name": "stdout",
     "output_type": "stream",
     "text": [
      "2\n",
      "[1 2]\n",
      "0.6666666666666666\n"
     ]
    }
   ],
   "source": [
    "calPrecsionMatrik = Precision(gt_user1, topn_user1,3)\n",
    "print(calPrecsionMatrik)"
   ]
  },
  {
   "cell_type": "markdown",
   "id": "97d5663e",
   "metadata": {},
   "source": [
    "## RECALL\n",
    "\n",
    "\n",
    "$$ Recall(GT_u, TopN_u, N) = \\frac{\\left| TopN_u \\cap GT_u \\right|}{\\left| GT(N) \\right|} $$"
   ]
  },
  {
   "cell_type": "code",
   "execution_count": 103,
   "id": "1d941a8a",
   "metadata": {},
   "outputs": [],
   "source": [
    "\n",
    "def Recall(GT, TopN, N):\n",
    "    rumusRecall = len(np.intersect1d(TopN[:N], GT)) / len(set(GT))\n",
    "    print(len(np.intersect1d(TopN[:N], GT)))\n",
    "    print(len(set(GT)))\n",
    "    # print(rumusRecall)\n",
    "    return rumusRecall"
   ]
  },
  {
   "cell_type": "code",
   "execution_count": 104,
   "id": "5f556b47",
   "metadata": {},
   "outputs": [
    {
     "name": "stdout",
     "output_type": "stream",
     "text": [
      "2\n",
      "6\n"
     ]
    },
    {
     "data": {
      "text/plain": [
       "0.3333333333333333"
      ]
     },
     "execution_count": 104,
     "metadata": {},
     "output_type": "execute_result"
    }
   ],
   "source": [
    "calRecalMatriks = Recall(gt_user1, topn_user1, 3)\n",
    "calRecalMatriks\n"
   ]
  },
  {
   "cell_type": "markdown",
   "id": "56b02945",
   "metadata": {},
   "source": [
    "## F1 SCORE\n",
    "\n",
    "$$ f1Score(GT_u, TopN_u, N) = \\frac{\\left| 2 * Precision(Gt_u, TopN_u, N) * Recall(Gt_u, TopN_u, N)  \\right|}{\\left| Precision(Gt_u, TopN_u, N) + Recall(Gt_u, TopN_u, N)  \\right|} $$"
   ]
  },
  {
   "cell_type": "code",
   "execution_count": 105,
   "id": "03e33007",
   "metadata": {},
   "outputs": [],
   "source": [
    "def F1Score(GT, TopN, N):\n",
    "    precision = Precision(GT, TopN, N)\n",
    "    recall = Recall(GT, TopN, N)\n",
    "    rumusF1Score = ((2 * precision * recall) / (precision + recall)) \n",
    "    if precision > 0 and recall > 0: \n",
    "        rumusF1Score = rumusF1Score\n",
    "    else :\n",
    "        rumusF1Score = 0\n",
    "    print(rumusF1Score)\n",
    "    return rumusF1Score\n",
    "    "
   ]
  },
  {
   "cell_type": "code",
   "execution_count": 106,
   "id": "d50ccea8",
   "metadata": {},
   "outputs": [
    {
     "name": "stdout",
     "output_type": "stream",
     "text": [
      "3\n",
      "[1 2 3]\n",
      "3\n",
      "6\n",
      "0.6\n"
     ]
    }
   ],
   "source": [
    "calF1Score = F1Score(gt_user1, topn_user1, 4)"
   ]
  },
  {
   "cell_type": "markdown",
   "id": "bf3dd7d8",
   "metadata": {},
   "source": [
    "## AP(Average Precision)\n",
    "\n",
    "\n",
    "$$\n",
    "AP(GT_u, TopN_u, N) = \\frac{1}{|GT_u|} \\sum_{n=1}^{N} Precision(GT_u, TopN_u, N)  \\cdot \\parallel (TopN_u(n) \\in  GT_u) $$\n",
    "\n"
   ]
  },
  {
   "cell_type": "code",
   "execution_count": 107,
   "id": "92e8763c",
   "metadata": {},
   "outputs": [],
   "source": [
    "def AP(groundTruth, TopN, N):\n",
    "    aPrecision = np.array([Precision(groundTruth, TopN, N=x) for x in range(1, N+1)])\n",
    "    print(f'ini adalah preceison {aPrecision}')\n",
    "    cekGT = np.array([1 if tp in groundTruth else 0 for tp in TopN[:N]])\n",
    "    print(f'ini cek gt {cekGT}')\n",
    "    rumusAP = (1/len(groundTruth) * np.sum(aPrecision * cekGT))\n",
    "    print(np.sum(aPrecision * cekGT))\n",
    "    print((len(groundTruth)))\n",
    "    return rumusAP"
   ]
  },
  {
   "cell_type": "code",
   "execution_count": 108,
   "id": "040f0fa3",
   "metadata": {},
   "outputs": [
    {
     "name": "stdout",
     "output_type": "stream",
     "text": [
      "1\n",
      "[1]\n",
      "1\n",
      "[1]\n",
      "2\n",
      "[1 2]\n",
      "3\n",
      "[1 2 3]\n",
      "ini adalah preceison [1.         0.5        0.66666667 0.75      ]\n",
      "ini cek gt [1 0 1 1]\n",
      "2.4166666666666665\n",
      "6\n"
     ]
    },
    {
     "data": {
      "text/plain": [
       "0.40277777777777773"
      ]
     },
     "execution_count": 108,
     "metadata": {},
     "output_type": "execute_result"
    }
   ],
   "source": [
    "calAPMatriks = AP(gt_user1, topn_user1, 4)\n",
    "calAPMatriks"
   ]
  },
  {
   "cell_type": "markdown",
   "id": "a1ee5c82",
   "metadata": {},
   "source": [
    "## MSE\n",
    "\n",
    "$$ MSE = \\frac{\\sum_{(u,i)\\in GT^{e^{2}}ui}^{}}{\\left| GT \\right|} $$\n",
    "\n",
    "$$ dimana, e = r_{ui} - \\hat{r_{ui}} $$"
   ]
  },
  {
   "cell_type": "code",
   "execution_count": 109,
   "id": "d4d66684",
   "metadata": {},
   "outputs": [],
   "source": [
    "## toy data\n",
    "gt = [4, 3, 4, 5, 3, 2]\n",
    "pred = [5, 4, 3, 2, 1, 1]\n"
   ]
  },
  {
   "cell_type": "code",
   "execution_count": 110,
   "id": "d289e9b5",
   "metadata": {},
   "outputs": [],
   "source": [
    "def MSE(groundTruth, ratingPrediksi):\n",
    "    # Convert lists to NumPy arrays\n",
    "    groundTruth_np = np.array(groundTruth)\n",
    "    ratingPrediksi_np = np.array(ratingPrediksi)\n",
    "    \n",
    "    rumusMSE = np.mean((groundTruth_np - ratingPrediksi_np) ** 2)\n",
    "    print(groundTruth_np)\n",
    "    print(ratingPrediksi_np)\n",
    "    print((groundTruth_np - ratingPrediksi_np))\n",
    "    print((groundTruth_np - ratingPrediksi_np)** 2)\n",
    "    print(np.sum((groundTruth_np - ratingPrediksi_np)** 2))\n",
    "    print(len(groundTruth))\n",
    "    return rumusMSE"
   ]
  },
  {
   "cell_type": "code",
   "execution_count": 111,
   "id": "21e97e16",
   "metadata": {},
   "outputs": [
    {
     "name": "stdout",
     "output_type": "stream",
     "text": [
      "[4 3 4 5 3 2]\n",
      "[5 4 3 2 1 1]\n",
      "[-1 -1  1  3  2  1]\n",
      "[1 1 1 9 4 1]\n",
      "17\n",
      "6\n"
     ]
    },
    {
     "data": {
      "text/plain": [
       "2.8333333333333335"
      ]
     },
     "execution_count": 111,
     "metadata": {},
     "output_type": "execute_result"
    }
   ],
   "source": [
    "calMSE = MSE(gt, pred)\n",
    "calMSE\n"
   ]
  },
  {
   "cell_type": "markdown",
   "id": "d2f58f5a",
   "metadata": {},
   "source": [
    "## RMSE\n",
    "\n",
    "$$ RMSE = \\sqrt{\\frac{\\sum_{(u,i)\\in GT^{e^{2}}ui}^{}}{\\left| GT \\right|}} $$\n",
    "\n",
    "\n",
    "$$ dimana, e = r_{ui} - \\hat{r_{ui}} $$"
   ]
  },
  {
   "cell_type": "code",
   "execution_count": 112,
   "id": "fc6b1c77",
   "metadata": {},
   "outputs": [],
   "source": [
    "def RMSE (groundTruth, ratingPrediksi):\n",
    "    rumusRMSE = np.sqrt(MSE(groundTruth, ratingPrediksi))\n",
    "    return rumusRMSE"
   ]
  },
  {
   "cell_type": "code",
   "execution_count": 113,
   "id": "b61fcd5e",
   "metadata": {},
   "outputs": [
    {
     "name": "stdout",
     "output_type": "stream",
     "text": [
      "[4 3 4 5 3 2]\n",
      "[5 4 3 2 1 1]\n",
      "[-1 -1  1  3  2  1]\n",
      "[1 1 1 9 4 1]\n",
      "17\n",
      "6\n",
      "1.6832508230603465\n"
     ]
    }
   ],
   "source": [
    "calrMSE = RMSE(gt, pred)\n",
    "print(calrMSE)"
   ]
  },
  {
   "cell_type": "markdown",
   "id": "ec421f6c",
   "metadata": {},
   "source": [
    "## MAE\n",
    "\n",
    "\n",
    "$$ MAE = \\frac{\\sum_{(u,i) \\in  E}^{}\\left| e_{ui} \\right|}{\\left| E \\right|} $$"
   ]
  },
  {
   "cell_type": "code",
   "execution_count": 120,
   "id": "ee28fab1",
   "metadata": {},
   "outputs": [],
   "source": [
    "def MAE (groundTruth, ratingPrediksi):\n",
    "    groundTruth_np = np.array(groundTruth)\n",
    "    ratingPrediksi_np = np.array(ratingPrediksi)\n",
    "    rumusMAE = np.mean(np.abs(groundTruth_np - ratingPrediksi_np))\n",
    "    print(groundTruth_np)\n",
    "    print(ratingPrediksi_np)\n",
    "    print((groundTruth_np - ratingPrediksi_np))\n",
    "    print(np.abs((groundTruth_np - ratingPrediksi_np)))\n",
    "    print(np.sum((np.abs(groundTruth_np - ratingPrediksi_np))))\n",
    "    print(len(groundTruth))\n",
    "    return rumusMAE"
   ]
  },
  {
   "cell_type": "code",
   "execution_count": 121,
   "id": "a06a2835",
   "metadata": {},
   "outputs": [
    {
     "name": "stdout",
     "output_type": "stream",
     "text": [
      "[4 3 4 5 3 2]\n",
      "[5 4 3 2 1 1]\n",
      "[-1 -1  1  3  2  1]\n",
      "[1 1 1 3 2 1]\n",
      "9\n",
      "6\n",
      "1.5\n"
     ]
    }
   ],
   "source": [
    "calMAE = MAE(gt, pred)\n",
    "print(calMAE)"
   ]
  },
  {
   "cell_type": "markdown",
   "id": "239605b3",
   "metadata": {},
   "source": [
    "## NRMSE\n",
    "\n",
    "$$ NRMSE = \\frac {RMSE}{r_{max} - r_{min}} $$"
   ]
  },
  {
   "cell_type": "code",
   "execution_count": 116,
   "id": "58a49c64",
   "metadata": {},
   "outputs": [],
   "source": [
    "def NRMSE(groundTruth, ratingPrediksi):\n",
    "    groundTruth_np = np.array(groundTruth)\n",
    "    ratingPrediksi_np = np.array(ratingPrediksi)\n",
    "    rumusNRMSE = RMSE(groundTruth_np, ratingPrediksi_np) / (groundTruth_np.max() - groundTruth_np.min())\n",
    "    return rumusNRMSE"
   ]
  },
  {
   "cell_type": "code",
   "execution_count": 117,
   "id": "9b2a9c27",
   "metadata": {},
   "outputs": [
    {
     "name": "stdout",
     "output_type": "stream",
     "text": [
      "[4 3 4 5 3 2]\n",
      "[5 4 3 2 1 1]\n",
      "[-1 -1  1  3  2  1]\n",
      "[1 1 1 9 4 1]\n",
      "17\n",
      "6\n",
      "0.5610836076867821\n"
     ]
    }
   ],
   "source": [
    "calNRMSE = NRMSE(gt, pred)\n",
    "print(calNRMSE)"
   ]
  },
  {
   "cell_type": "markdown",
   "id": "4cfa43d1",
   "metadata": {},
   "source": [
    "## NMAE\n",
    "\n",
    "$$ NMAE = \\frac {MAE}{r_{max} - r_{min}} $$ "
   ]
  },
  {
   "cell_type": "code",
   "execution_count": 118,
   "id": "8a19d4dd",
   "metadata": {},
   "outputs": [],
   "source": [
    "def NMAE(groundTruth, ratingPrediksi):\n",
    "    groundTruth_np = np.array(groundTruth)\n",
    "    ratingPrediksi_np = np.array(ratingPrediksi)\n",
    "    rumusNMAE = MAE(groundTruth_np, ratingPrediksi_np) / (groundTruth_np.max() - groundTruth_np.min())\n",
    "    return rumusNMAE"
   ]
  },
  {
   "cell_type": "code",
   "execution_count": 119,
   "id": "472c53dc",
   "metadata": {},
   "outputs": [
    {
     "name": "stdout",
     "output_type": "stream",
     "text": [
      "0.5\n"
     ]
    }
   ],
   "source": [
    "calNMAE = NMAE(gt, pred)\n",
    "print(calNMAE)"
   ]
  }
 ],
 "metadata": {
  "kernelspec": {
   "display_name": "Python 3",
   "language": "python",
   "name": "python3"
  },
  "language_info": {
   "codemirror_mode": {
    "name": "ipython",
    "version": 3
   },
   "file_extension": ".py",
   "mimetype": "text/x-python",
   "name": "python",
   "nbconvert_exporter": "python",
   "pygments_lexer": "ipython3",
   "version": "3.9.7"
  }
 },
 "nbformat": 4,
 "nbformat_minor": 5
}
