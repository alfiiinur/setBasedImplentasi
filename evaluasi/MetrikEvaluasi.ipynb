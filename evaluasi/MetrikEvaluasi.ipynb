{
 "cells": [
  {
   "cell_type": "markdown",
   "id": "ae6ea790",
   "metadata": {},
   "source": [
    "## PRECISION"
   ]
  },
  {
   "cell_type": "markdown",
   "id": "97d5663e",
   "metadata": {},
   "source": [
    "## RECALL"
   ]
  },
  {
   "cell_type": "markdown",
   "id": "56b02945",
   "metadata": {},
   "source": [
    "## F1 SCORE"
   ]
  },
  {
   "cell_type": "markdown",
   "id": "bf3dd7d8",
   "metadata": {},
   "source": [
    "## AP"
   ]
  }
 ],
 "metadata": {
  "kernelspec": {
   "display_name": "Python 3",
   "language": "python",
   "name": "python3"
  },
  "language_info": {
   "name": "python",
   "version": "3.13.3"
  }
 },
 "nbformat": 4,
 "nbformat_minor": 5
}
