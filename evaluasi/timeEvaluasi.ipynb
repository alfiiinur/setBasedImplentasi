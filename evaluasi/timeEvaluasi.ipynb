{
 "cells": [
  {
   "cell_type": "code",
   "execution_count": 1,
   "metadata": {},
   "outputs": [],
   "source": [
    "import pandas as pd \n",
    "import numpy as np \n",
    "import math as math     \n",
    "import time\n",
    "from tqdm import tqdm"
   ]
  },
  {
   "cell_type": "markdown",
   "metadata": {},
   "source": [
    "# LOAD DATASET"
   ]
  },
  {
   "cell_type": "code",
   "execution_count": 2,
   "metadata": {},
   "outputs": [],
   "source": [
    "def load_Dataset(baseFile, fold_Number): \n",
    "    rnmColData = ['user_id', 'item_id', 'rating', 'timestamp']\n",
    "    base_File = f\"{baseFile}/u{fold_Number}.base\"\n",
    "    test_File = f\"{baseFile}/u{fold_Number}.test\"\n",
    "    base_Data = pd.read_csv(base_File, sep=\"\\t\", header=None, names=rnmColData)\n",
    "    test_Data = pd.read_csv(test_File, sep=\"\\t\", header=None, names=rnmColData)\n",
    "    base_Data = base_Data.drop(columns=[\"timestamp\"])\n",
    "    test_Data = test_Data.drop(columns=[\"timestamp\"])\n",
    "    return base_Data, test_Data"
   ]
  },
  {
   "cell_type": "code",
   "execution_count": 5,
   "metadata": {},
   "outputs": [
    {
     "data": {
      "text/html": [
       "<div>\n",
       "<style scoped>\n",
       "    .dataframe tbody tr th:only-of-type {\n",
       "        vertical-align: middle;\n",
       "    }\n",
       "\n",
       "    .dataframe tbody tr th {\n",
       "        vertical-align: top;\n",
       "    }\n",
       "\n",
       "    .dataframe thead th {\n",
       "        text-align: right;\n",
       "    }\n",
       "</style>\n",
       "<table border=\"1\" class=\"dataframe\">\n",
       "  <thead>\n",
       "    <tr style=\"text-align: right;\">\n",
       "      <th></th>\n",
       "      <th>user_id</th>\n",
       "      <th>item_id</th>\n",
       "      <th>rating</th>\n",
       "    </tr>\n",
       "  </thead>\n",
       "  <tbody>\n",
       "    <tr>\n",
       "      <th>0</th>\n",
       "      <td>1</td>\n",
       "      <td>1</td>\n",
       "      <td>5</td>\n",
       "    </tr>\n",
       "    <tr>\n",
       "      <th>1</th>\n",
       "      <td>1</td>\n",
       "      <td>2</td>\n",
       "      <td>3</td>\n",
       "    </tr>\n",
       "    <tr>\n",
       "      <th>2</th>\n",
       "      <td>1</td>\n",
       "      <td>3</td>\n",
       "      <td>4</td>\n",
       "    </tr>\n",
       "    <tr>\n",
       "      <th>3</th>\n",
       "      <td>1</td>\n",
       "      <td>4</td>\n",
       "      <td>3</td>\n",
       "    </tr>\n",
       "    <tr>\n",
       "      <th>4</th>\n",
       "      <td>1</td>\n",
       "      <td>5</td>\n",
       "      <td>3</td>\n",
       "    </tr>\n",
       "    <tr>\n",
       "      <th>...</th>\n",
       "      <td>...</td>\n",
       "      <td>...</td>\n",
       "      <td>...</td>\n",
       "    </tr>\n",
       "    <tr>\n",
       "      <th>79995</th>\n",
       "      <td>943</td>\n",
       "      <td>1067</td>\n",
       "      <td>2</td>\n",
       "    </tr>\n",
       "    <tr>\n",
       "      <th>79996</th>\n",
       "      <td>943</td>\n",
       "      <td>1074</td>\n",
       "      <td>4</td>\n",
       "    </tr>\n",
       "    <tr>\n",
       "      <th>79997</th>\n",
       "      <td>943</td>\n",
       "      <td>1188</td>\n",
       "      <td>3</td>\n",
       "    </tr>\n",
       "    <tr>\n",
       "      <th>79998</th>\n",
       "      <td>943</td>\n",
       "      <td>1228</td>\n",
       "      <td>3</td>\n",
       "    </tr>\n",
       "    <tr>\n",
       "      <th>79999</th>\n",
       "      <td>943</td>\n",
       "      <td>1330</td>\n",
       "      <td>3</td>\n",
       "    </tr>\n",
       "  </tbody>\n",
       "</table>\n",
       "<p>80000 rows × 3 columns</p>\n",
       "</div>"
      ],
      "text/plain": [
       "       user_id  item_id  rating\n",
       "0            1        1       5\n",
       "1            1        2       3\n",
       "2            1        3       4\n",
       "3            1        4       3\n",
       "4            1        5       3\n",
       "...        ...      ...     ...\n",
       "79995      943     1067       2\n",
       "79996      943     1074       4\n",
       "79997      943     1188       3\n",
       "79998      943     1228       3\n",
       "79999      943     1330       3\n",
       "\n",
       "[80000 rows x 3 columns]"
      ]
     },
     "execution_count": 5,
     "metadata": {},
     "output_type": "execute_result"
    }
   ],
   "source": [
    "call_base = \"../ml-100k\"\n",
    "basedata, testdata = load_Dataset(call_base, 1)\n",
    "basedata"
   ]
  },
  {
   "cell_type": "code",
   "execution_count": 6,
   "metadata": {},
   "outputs": [],
   "source": [
    "def ConvertRatingMatriks(ratingData):\n",
    "    # membuat container untuk rating matriks dengan ukuran user x item\n",
    "    matriks_rating = pd.DataFrame(np.zeros((943, 1682)), columns = list(range(1, 1683)), index = list(range(1, 944)))\n",
    "    # merubah data frame ke dalam bentuk matriks rating pivot\n",
    "    convertMatriksRating = ratingData.pivot_table(index = 'user_id', columns = 'item_id', values='rating')\n",
    "    # mengisi matriks rating NaN dengan 0\n",
    "    convertMatriksRating = convertMatriksRating.fillna(0)\n",
    "    # updating matriks rating dengan matriks rating yang sudah di pivot\n",
    "    matriks_rating.update(convertMatriksRating)\n",
    "    # mengembalikan matriks rating\n",
    "    return matriks_rating"
   ]
  },
  {
   "cell_type": "markdown",
   "metadata": {},
   "source": [
    "# SIMILARITAS"
   ]
  },
  {
   "cell_type": "markdown",
   "metadata": {},
   "source": [
    "## JACCARD"
   ]
  },
  {
   "cell_type": "code",
   "execution_count": 7,
   "metadata": {},
   "outputs": [],
   "source": [
    "def SimilarityJaccard(RatingMatriks, index1, index2, jenis=\"user-based\"):\n",
    "    if jenis == \"user-based\":\n",
    "        #mengambil seluru rating dari user pada baris index1 dan index2\n",
    "        #memili nama item yang sudah di rating oleh user >0 \n",
    "        itemRated1 = set(RatingMatriks.columns[RatingMatriks.iloc[index1, :] != 0])\n",
    "        # print(f\"item rated \", itemRated1)\n",
    "        itemRated2 = set(RatingMatriks.columns[RatingMatriks.iloc[index2, :] != 0])\n",
    "    elif jenis == \"item-based\":\n",
    "        #mengambil seluru rating untuk item pada kolom index1 dan index2\n",
    "        #memili nama user yang sudah di rating oleh item >0\n",
    "        itemRated1 = set(RatingMatriks.index[RatingMatriks.iloc[:, index1] != 0])\n",
    "        itemRated2 = set(RatingMatriks.index[RatingMatriks.iloc[:, index2] != 0])\n",
    "\n",
    "    # jumlah item(len)\n",
    "    intersection = len(itemRated1.intersection(itemRated2))\n",
    "    union = len(itemRated1.union(itemRated2))\n",
    "    if union != 0:\n",
    "        rumusJaccardSim = intersection / union\n",
    "    else:\n",
    "        rumusJaccardSim = 0\n",
    "    return rumusJaccardSim"
   ]
  },
  {
   "cell_type": "code",
   "execution_count": 8,
   "metadata": {},
   "outputs": [],
   "source": [
    "def SimilarityAllJaccard(RatingMatriks, jenis=\"user-based\"):\n",
    "    # jika jenis user-based\n",
    "    if jenis == \"user-based\" : \n",
    "        # mendapatkan jumlah user(baris) dari rating matriks\n",
    "        jumlahUser = RatingMatriks.shape[0]\n",
    "        # membuat container untuk matriks similarity dengan ukuran user x user\n",
    "        matriksSimilarity = np.zeros((jumlahUser, jumlahUser))\n",
    "        # mengisi diagonal matriks similarity dengan 1\n",
    "        np.fill_diagonal(matriksSimilarity, 1)\n",
    "        # i loop setiap user baris atas\n",
    "        for i in range (jumlahUser):\n",
    "            # j loop setiap user lain, mulai dari user ke i+1 agar tidak menghitung user yang sama\n",
    "            for j in range(i+1, jumlahUser):\n",
    "                # menghitung jaccard antara user i dan user j\n",
    "                rumusSimJaccardUser = SimilarityJaccard(RatingMatriks, i, j, jenis=\"user-based\")\n",
    "                # menyimpan hasil sim dari user i dan j\n",
    "                matriksSimilarity[i][j] = rumusSimJaccardUser\n",
    "                matriksSimilarity[j][i] = rumusSimJaccardUser\n",
    "        # mengembalikan hasil similarity dalam bentuk data frame\n",
    "        hasilSimJaccard = pd.DataFrame(matriksSimilarity, index=RatingMatriks.index, columns=RatingMatriks.index)\n",
    "    # jika jenis item-based\n",
    "    elif jenis == \"item-based\" :\n",
    "        # mendapatkan jumlah item(kolom) dari rating matriks \n",
    "        jumlahItem = RatingMatriks.shape[1]\n",
    "        # membuat container untuk matriks similarity dengan ukuran item x item\n",
    "        matriksSimilarity = np.zeros((jumlahItem, jumlahItem))\n",
    "        # mengisi diagonal matriks similarity dengan 1\n",
    "        np.fill_diagonal(matriksSimilarity, 1)\n",
    "        # i loop setiap item\n",
    "        for i in range (jumlahItem):\n",
    "            # j loop setiap item lain, mulai dari item ke i+1 agar tidak menghitung item yang sama\n",
    "            for j in range(i+1, jumlahItem):\n",
    "                # menghitung jaccard antara item i dan item j\n",
    "                rumusSimJaccardItem = SimilarityJaccard(RatingMatriks, i, j, jenis=\"item-based\")\n",
    "                # menyimpan hasil sim dari item i dan j\n",
    "                matriksSimilarity[i][j] = rumusSimJaccardItem\n",
    "                matriksSimilarity[j][i] = rumusSimJaccardItem\n",
    "        # mengembalikan hasil similarity dalam bentuk data frame\n",
    "        hasilSimJaccard = pd.DataFrame(matriksSimilarity, index=RatingMatriks.columns, columns=RatingMatriks.columns)\n",
    "    return hasilSimJaccard"
   ]
  },
  {
   "cell_type": "markdown",
   "metadata": {},
   "source": [
    "## RJ"
   ]
  },
  {
   "cell_type": "code",
   "execution_count": 9,
   "metadata": {},
   "outputs": [],
   "source": [
    "def SimilarityRJ(RatingMatriks, index1, index2, jenis=\"user-based\"):\n",
    "    # jika jenis == \"user-based\":\n",
    "    if jenis == \"user-based\":\n",
    "        Rated1 = set(RatingMatriks.columns[RatingMatriks.iloc[index1, :] != 0])\n",
    "        # print(\"itemRated1: \", itemRated1)\n",
    "        Rated2 = set(RatingMatriks.columns[RatingMatriks.iloc[index2, :] != 0])\n",
    "        # print(\"Rated2: \", Rated2)\n",
    "    elif jenis == \"item-based\":\n",
    "        # mencari index user yang telah memberi rating pada item1 dan item2\n",
    "        Rated1 = set(RatingMatriks.index[RatingMatriks.iloc[:, index1] != 0])\n",
    "        Rated2 = set(RatingMatriks.index[RatingMatriks.iloc[:, index2] != 0])\n",
    "    # menghitung banyaknya item yang telah diberi rating oleh user1 dan user2\n",
    "    intersection = len(Rated1.intersection(Rated2))\n",
    "    #menghitung jumlah total item yang telah diberi rating oleh user dan jumlah total item yang telah diberi rating oleh user\n",
    "    CountRated1 = len(Rated1)\n",
    "    CountRated2 = len(Rated2)\n",
    "    # menghitung similarity\n",
    "    if intersection != 0:\n",
    "        rumusRelevantJaccard = 1/(1+(1/intersection)+(CountRated1/(1+CountRated1))+(CountRated2/(1+CountRated2)))\n",
    "    elif intersection == 0:\n",
    "        rumusRelevantJaccard = 0\n",
    "    return rumusRelevantJaccard"
   ]
  },
  {
   "cell_type": "code",
   "execution_count": 10,
   "metadata": {},
   "outputs": [],
   "source": [
    "def SimilarityAllRJ(RatingMatriks, jenis=\"user-based\"):\n",
    "    if jenis == \"user-based\":\n",
    "        jumlah = RatingMatriks.shape[0]\n",
    "        simMatriks = np.zeros((jumlah, jumlah))\n",
    "        for i in range(jumlah):\n",
    "            for j in range(i, jumlah):\n",
    "                nilaiSim = SimilarityRJ(RatingMatriks, i, j, jenis=jenis)\n",
    "                simMatriks[i][j] = nilaiSim\n",
    "                simMatriks[j][i] = nilaiSim\n",
    "        simMatriksDf = pd.DataFrame(simMatriks, index=RatingMatriks.index, columns=RatingMatriks.index)\n",
    "    elif jenis == \"item-based\":\n",
    "        jumlah = RatingMatriks.shape[1]\n",
    "        simMatriks = np.zeros((jumlah, jumlah))\n",
    "        for i in range(jumlah):\n",
    "            for j in range(i, jumlah):\n",
    "                nilaiSim = SimilarityRJ(RatingMatriks, i, j, jenis=jenis)\n",
    "                simMatriks[i][j] = nilaiSim\n",
    "                simMatriks[j][i] = nilaiSim\n",
    "        simMatriksDf = pd.DataFrame(simMatriks, index=RatingMatriks.columns, columns=RatingMatriks.columns)\n",
    "    return simMatriksDf"
   ]
  },
  {
   "cell_type": "markdown",
   "metadata": {},
   "source": [
    "# KOMPUTASI"
   ]
  },
  {
   "cell_type": "code",
   "execution_count": null,
   "metadata": {},
   "outputs": [],
   "source": [
    "def KomputasiSimilarity(baseFile, similarity_func, jenis=\"user-based\"):\n",
    "    total_start = time.time()  # Mulai waktu total\n",
    "    fold_times = []\n",
    "\n",
    "    for fold_number in tqdm(range(1, 6), desc=\"Processing Folds\"):\n",
    "        fold_start = time.time()\n",
    "\n",
    "        # Load dataset untuk base dan test\n",
    "        base_Data, _ = load_Dataset(baseFile, fold_number)\n",
    "        # Convert ke rating matriks\n",
    "        matriks_rating = ConvertRatingMatriks(base_Data)\n",
    "        # Hitung similarity menggunakan fungsi yang diberikan\n",
    "        similarity_matrix = similarity_func(matriks_rating, jenis=jenis)\n",
    "\n",
    "        # waktu perfold \n",
    "        waktu_PerFold = time.time() - fold_start\n",
    "        fold_times.append(waktu_PerFold)\n",
    "\n",
    "        print(f\"[INFO] Fold {fold_number} ({jenis}) selesai dalam {waktu_PerFold:.2f} detik\")\n",
    "\n",
    "    total_semuaFold = time.time() - total_start\n",
    "    avg_time = sum(fold_times) / len(fold_times)\n",
    "\n",
    "    print(f\"\\n[INFO] Semua fold selesai. Total waktu: {total_semuaFold:.2f} detik\")\n",
    "    print(f\"[INFO] Rata-rata waktu per fold: {avg_time:.2f} detik\")"
   ]
  },
  {
   "cell_type": "code",
   "execution_count": 12,
   "metadata": {},
   "outputs": [],
   "source": [
    "baseFile = \"../ml-100k\""
   ]
  },
  {
   "cell_type": "markdown",
   "metadata": {},
   "source": [
    "## test baru"
   ]
  },
  {
   "cell_type": "markdown",
   "metadata": {},
   "source": [
    "## JACCARD"
   ]
  },
  {
   "cell_type": "code",
   "execution_count": 13,
   "metadata": {},
   "outputs": [
    {
     "name": "stderr",
     "output_type": "stream",
     "text": [
      "Processing Folds:  20%|██        | 1/5 [02:03<08:15, 123.81s/it]"
     ]
    },
    {
     "name": "stdout",
     "output_type": "stream",
     "text": [
      "[INFO] Fold 1 (user-based) selesai dalam 123.81 detik\n"
     ]
    },
    {
     "name": "stderr",
     "output_type": "stream",
     "text": [
      "Processing Folds:  40%|████      | 2/5 [04:07<06:11, 123.97s/it]"
     ]
    },
    {
     "name": "stdout",
     "output_type": "stream",
     "text": [
      "[INFO] Fold 2 (user-based) selesai dalam 124.07 detik\n"
     ]
    },
    {
     "name": "stderr",
     "output_type": "stream",
     "text": [
      "Processing Folds:  60%|██████    | 3/5 [06:12<04:08, 124.15s/it]"
     ]
    },
    {
     "name": "stdout",
     "output_type": "stream",
     "text": [
      "[INFO] Fold 3 (user-based) selesai dalam 124.35 detik\n"
     ]
    },
    {
     "name": "stderr",
     "output_type": "stream",
     "text": [
      "Processing Folds:  80%|████████  | 4/5 [08:16<02:04, 124.27s/it]"
     ]
    },
    {
     "name": "stdout",
     "output_type": "stream",
     "text": [
      "[INFO] Fold 4 (user-based) selesai dalam 124.46 detik\n"
     ]
    },
    {
     "name": "stderr",
     "output_type": "stream",
     "text": [
      "Processing Folds: 100%|██████████| 5/5 [10:21<00:00, 124.33s/it]"
     ]
    },
    {
     "name": "stdout",
     "output_type": "stream",
     "text": [
      "[INFO] Fold 5 (user-based) selesai dalam 124.92 detik\n",
      "\n",
      "[INFO] Semua fold selesai. Total waktu: 621.64 detik\n",
      "[INFO] Rata-rata waktu per fold: 124.32 detik\n"
     ]
    },
    {
     "name": "stderr",
     "output_type": "stream",
     "text": [
      "\n"
     ]
    }
   ],
   "source": [
    "# userbased\n",
    "KomputasiSimilarity(baseFile, SimilarityAllJaccard, jenis=\"user-based\")"
   ]
  },
  {
   "cell_type": "code",
   "execution_count": 15,
   "metadata": {},
   "outputs": [
    {
     "name": "stderr",
     "output_type": "stream",
     "text": [
      "Processing Folds:  20%|██        | 1/5 [06:47<27:11, 407.95s/it]"
     ]
    },
    {
     "name": "stdout",
     "output_type": "stream",
     "text": [
      "[INFO] Fold 1 (item-based) selesai dalam 407.95 detik\n"
     ]
    },
    {
     "name": "stderr",
     "output_type": "stream",
     "text": [
      "Processing Folds:  40%|████      | 2/5 [13:32<20:17, 405.80s/it]"
     ]
    },
    {
     "name": "stdout",
     "output_type": "stream",
     "text": [
      "[INFO] Fold 2 (item-based) selesai dalam 404.30 detik\n"
     ]
    },
    {
     "name": "stderr",
     "output_type": "stream",
     "text": [
      "Processing Folds:  60%|██████    | 3/5 [20:18<13:32, 406.00s/it]"
     ]
    },
    {
     "name": "stdout",
     "output_type": "stream",
     "text": [
      "[INFO] Fold 3 (item-based) selesai dalam 406.24 detik\n"
     ]
    },
    {
     "name": "stderr",
     "output_type": "stream",
     "text": [
      "Processing Folds:  80%|████████  | 4/5 [27:06<06:46, 406.67s/it]"
     ]
    },
    {
     "name": "stdout",
     "output_type": "stream",
     "text": [
      "[INFO] Fold 4 (item-based) selesai dalam 407.69 detik\n"
     ]
    },
    {
     "name": "stderr",
     "output_type": "stream",
     "text": [
      "Processing Folds: 100%|██████████| 5/5 [33:53<00:00, 406.61s/it]"
     ]
    },
    {
     "name": "stdout",
     "output_type": "stream",
     "text": [
      "[INFO] Fold 5 (item-based) selesai dalam 406.87 detik\n",
      "\n",
      "[INFO] Semua fold selesai. Total waktu: 2033.06 detik\n",
      "[INFO] Rata-rata waktu per fold: 406.61 detik\n"
     ]
    },
    {
     "name": "stderr",
     "output_type": "stream",
     "text": [
      "\n"
     ]
    }
   ],
   "source": [
    "\n",
    "# itembased\n",
    "KomputasiSimilarity(baseFile, SimilarityAllJaccard, jenis=\"item-based\")"
   ]
  },
  {
   "cell_type": "markdown",
   "metadata": {},
   "source": [
    "## RJ"
   ]
  },
  {
   "cell_type": "code",
   "execution_count": 14,
   "metadata": {},
   "outputs": [
    {
     "name": "stderr",
     "output_type": "stream",
     "text": [
      "Processing Folds:  20%|██        | 1/5 [02:03<08:12, 123.10s/it]"
     ]
    },
    {
     "name": "stdout",
     "output_type": "stream",
     "text": [
      "[INFO] Fold 1 (user-based) selesai dalam 123.10 detik\n"
     ]
    },
    {
     "name": "stderr",
     "output_type": "stream",
     "text": [
      "Processing Folds:  40%|████      | 2/5 [04:06<06:10, 123.40s/it]"
     ]
    },
    {
     "name": "stdout",
     "output_type": "stream",
     "text": [
      "[INFO] Fold 2 (user-based) selesai dalam 123.61 detik\n"
     ]
    },
    {
     "name": "stderr",
     "output_type": "stream",
     "text": [
      "Processing Folds:  60%|██████    | 3/5 [06:10<04:06, 123.41s/it]"
     ]
    },
    {
     "name": "stdout",
     "output_type": "stream",
     "text": [
      "[INFO] Fold 3 (user-based) selesai dalam 123.42 detik\n"
     ]
    },
    {
     "name": "stderr",
     "output_type": "stream",
     "text": [
      "Processing Folds:  80%|████████  | 4/5 [08:14<02:03, 123.76s/it]"
     ]
    },
    {
     "name": "stdout",
     "output_type": "stream",
     "text": [
      "[INFO] Fold 4 (user-based) selesai dalam 124.29 detik\n"
     ]
    },
    {
     "name": "stderr",
     "output_type": "stream",
     "text": [
      "Processing Folds: 100%|██████████| 5/5 [10:19<00:00, 123.86s/it]"
     ]
    },
    {
     "name": "stdout",
     "output_type": "stream",
     "text": [
      "[INFO] Fold 5 (user-based) selesai dalam 124.88 detik\n",
      "\n",
      "[INFO] Semua fold selesai. Total waktu: 619.32 detik\n",
      "[INFO] Rata-rata waktu per fold: 123.86 detik\n"
     ]
    },
    {
     "name": "stderr",
     "output_type": "stream",
     "text": [
      "\n"
     ]
    }
   ],
   "source": [
    "# userbased\n",
    "KomputasiSimilarity(baseFile, SimilarityAllRJ, jenis=\"user-based\")"
   ]
  },
  {
   "cell_type": "code",
   "execution_count": 16,
   "metadata": {},
   "outputs": [
    {
     "name": "stderr",
     "output_type": "stream",
     "text": [
      "Processing Folds:  20%|██        | 1/5 [06:54<27:38, 414.69s/it]"
     ]
    },
    {
     "name": "stdout",
     "output_type": "stream",
     "text": [
      "[INFO] Fold 1 (item-based) selesai dalam 414.69 detik\n"
     ]
    },
    {
     "name": "stderr",
     "output_type": "stream",
     "text": [
      "Processing Folds:  40%|████      | 2/5 [13:39<20:26, 408.85s/it]"
     ]
    },
    {
     "name": "stdout",
     "output_type": "stream",
     "text": [
      "[INFO] Fold 2 (item-based) selesai dalam 404.76 detik\n"
     ]
    },
    {
     "name": "stderr",
     "output_type": "stream",
     "text": [
      "Processing Folds:  60%|██████    | 3/5 [20:23<13:32, 406.47s/it]"
     ]
    },
    {
     "name": "stdout",
     "output_type": "stream",
     "text": [
      "[INFO] Fold 3 (item-based) selesai dalam 403.63 detik\n"
     ]
    },
    {
     "name": "stderr",
     "output_type": "stream",
     "text": [
      "Processing Folds:  80%|████████  | 4/5 [27:07<06:45, 405.53s/it]"
     ]
    },
    {
     "name": "stdout",
     "output_type": "stream",
     "text": [
      "[INFO] Fold 4 (item-based) selesai dalam 404.10 detik\n"
     ]
    },
    {
     "name": "stderr",
     "output_type": "stream",
     "text": [
      "Processing Folds: 100%|██████████| 5/5 [33:50<00:00, 406.06s/it]"
     ]
    },
    {
     "name": "stdout",
     "output_type": "stream",
     "text": [
      "[INFO] Fold 5 (item-based) selesai dalam 403.14 detik\n",
      "\n",
      "[INFO] Semua fold selesai. Total waktu: 2030.33 detik\n",
      "[INFO] Rata-rata waktu per fold: 406.06 detik\n"
     ]
    },
    {
     "name": "stderr",
     "output_type": "stream",
     "text": [
      "\n"
     ]
    }
   ],
   "source": [
    "# itembased\n",
    "KomputasiSimilarity(baseFile, SimilarityAllRJ, jenis=\"item-based\")"
   ]
  },
  {
   "cell_type": "markdown",
   "metadata": {},
   "source": [
    "# GRAFIK"
   ]
  },
  {
   "cell_type": "code",
   "execution_count": 3,
   "metadata": {},
   "outputs": [
    {
     "data": {
      "image/png": "[encoded data removed]",
      "text/plain": [
       "<Figure size 720x432 with 1 Axes>"
      ]
     },
     "metadata": {
      "needs_background": "light"
     },
     "output_type": "display_data"
    }
   ],
   "source": [
    "import matplotlib.pyplot as plt\n",
    "import numpy as np\n",
    "\n",
    "# Data waktu rata-rata per fold (dalam detik)\n",
    "methods = ['Jaccard', 'RJ']\n",
    "user_based_times = [124.32, 123.86]\n",
    "item_based_times = [406.61, 406.06]\n",
    "\n",
    "x = np.arange(len(methods))  # Lokasi label\n",
    "width = 0.35  # Lebar bar\n",
    "\n",
    "fig, ax = plt.subplots(figsize=(10, 6))\n",
    "\n",
    "# Buat bar chart\n",
    "bars1 = ax.bar(x - width/2, user_based_times, width, label='User-Based', color='skyblue')\n",
    "bars2 = ax.bar(x + width/2, item_based_times, width, label='Item-Based', color='salmon')\n",
    "\n",
    "# Label dan judul\n",
    "ax.set_ylabel('Rata-Rata Waktu per Fold (detik)')\n",
    "ax.set_title('Perbandingan Waktu Eksekusi: User-Based vs Item-Based')\n",
    "ax.set_xticks(x)\n",
    "ax.set_xticklabels(methods)\n",
    "ax.legend()\n",
    "\n",
    "# Tambahkan nilai di atas bar\n",
    "for bar in bars1 + bars2:\n",
    "    height = bar.get_height()\n",
    "    ax.annotate(f'{height:.2f}', \n",
    "                xy=(bar.get_x() + bar.get_width() / 2, height),\n",
    "                xytext=(0, 3), \n",
    "                textcoords=\"offset points\",\n",
    "                ha='center', va='bottom')\n",
    "\n",
    "plt.tight_layout()\n",
    "plt.show()\n"
   ]
  },
  {
   "cell_type": "code",
   "execution_count": null,
   "metadata": {},
   "outputs": [
    {
     "data": {
      "image/png": "[encoded data removed]",
      "text/plain": [
       "<Figure size 720x360 with 1 Axes>"
      ]
     },
     "metadata": {
      "needs_background": "light"
     },
     "output_type": "display_data"
    },
    {
     "data": {
      "image/png": "[encoded data removed]",
      "text/plain": [
       "<Figure size 720x360 with 1 Axes>"
      ]
     },
     "metadata": {
      "needs_background": "light"
     },
     "output_type": "display_data"
    }
   ],
   "source": [
    "# Data waktu per fold (dalam detik)\n",
    "folds = ['Fold 1', 'Fold 2', 'Fold 3', 'Fold 4', 'Fold 5']\n",
    "\n",
    "# User-Based\n",
    "user_jaccard = [123.81, 124.07, 124.35, 124.46, 124.92]\n",
    "user_rj = [123.10, 123.61, 123.42, 124.29, 124.88]\n",
    "\n",
    "# Item-Based\n",
    "item_jaccard = [407.95, 404.30, 406.24, 407.69, 406.87]\n",
    "item_rj = [414.69, 404.76, 403.63, 404.10, 403.14]\n",
    "\n",
    "x = range(len(folds))\n",
    "\n",
    "# Grafik 1: User-Based\n",
    "plt.figure(figsize=(10, 5))\n",
    "plt.plot(x, user_jaccard, marker='o', label='User-Based Jaccard', color='blue')\n",
    "plt.plot(x, user_rj, marker='x', label='User-Based RJ', color='red')\n",
    "plt.xticks(x, folds)\n",
    "plt.ylabel('Waktu per Fold (detik)')\n",
    "plt.title('Perbandingan Waktu per Fold - User-Based')\n",
    "plt.legend()\n",
    "plt.grid(True)\n",
    "plt.tight_layout()\n",
    "plt.show()\n",
    "\n",
    "# Grafik 2: Item-Based\n",
    "plt.figure(figsize=(10, 5))\n",
    "plt.plot(x, item_jaccard, marker='o', label='Item-Based Jaccard', color='red')\n",
    "plt.plot(x, item_rj, marker='s', label='Item-Based RJ', color='green')\n",
    "plt.xticks(x, folds)\n",
    "plt.ylabel('Waktu per Fold (detik)')\n",
    "plt.title('Perbandingan Waktu per Fold - Item-Based')\n",
    "plt.legend()\n",
    "plt.grid(True)\n",
    "plt.tight_layout()\n",
    "plt.show()\n"
   ]
  }
 ],
 "metadata": {
  "kernelspec": {
   "display_name": "Python 3",
   "language": "python",
   "name": "python3"
  },
  "language_info": {
   "codemirror_mode": {
    "name": "ipython",
    "version": 3
   },
   "file_extension": ".py",
   "mimetype": "text/x-python",
   "name": "python",
   "nbconvert_exporter": "python",
   "pygments_lexer": "ipython3",
   "version": "3.9.7"
  }
 },
 "nbformat": 4,
 "nbformat_minor": 2
}
