{
 "cells": [
  {
   "cell_type": "markdown",
   "metadata": {},
   "source": [
    "## IMPORT LIB"
   ]
  },
  {
   "cell_type": "code",
   "execution_count": 1,
   "metadata": {},
   "outputs": [],
   "source": [
    "import pandas as pd \n",
    "import numpy as np\n",
    "import math as math"
   ]
  },
  {
   "cell_type": "code",
   "execution_count": 2,
   "metadata": {},
   "outputs": [],
   "source": [
    "#  datasetInput = ratingData.pivot(index = 'user_id', columns = 'item_id', values='rating')\n",
    "#     # fill NaN with 0\n",
    "#     insertDataNew = datasetInput.fillna(0)"
   ]
  },
  {
   "cell_type": "markdown",
   "metadata": {},
   "source": [
    "## TOY DATA"
   ]
  },
  {
   "cell_type": "code",
   "execution_count": 3,
   "metadata": {},
   "outputs": [],
   "source": [
    "toyDataMatriks = [\n",
    "    [3,\t0,\t0,\t0,\t0,\t0,\t2],\n",
    "    [1,\t2,\t4,\t2,\t2,\t0,\t0],\n",
    "    [0,\t4,\t1,\t0,\t0,\t2,\t4],\n",
    "    [0,\t0,\t0,\t0,\t3,\t2,\t4]\n",
    "]"
   ]
  },
  {
   "cell_type": "code",
   "execution_count": 4,
   "metadata": {},
   "outputs": [
    {
     "data": {
      "text/html": [
       "<div>\n",
       "<style scoped>\n",
       "    .dataframe tbody tr th:only-of-type {\n",
       "        vertical-align: middle;\n",
       "    }\n",
       "\n",
       "    .dataframe tbody tr th {\n",
       "        vertical-align: top;\n",
       "    }\n",
       "\n",
       "    .dataframe thead th {\n",
       "        text-align: right;\n",
       "    }\n",
       "</style>\n",
       "<table border=\"1\" class=\"dataframe\">\n",
       "  <thead>\n",
       "    <tr style=\"text-align: right;\">\n",
       "      <th></th>\n",
       "      <th>item-1</th>\n",
       "      <th>item-2</th>\n",
       "      <th>item-3</th>\n",
       "      <th>item-4</th>\n",
       "      <th>item-5</th>\n",
       "      <th>item-6</th>\n",
       "      <th>item-7</th>\n",
       "    </tr>\n",
       "  </thead>\n",
       "  <tbody>\n",
       "    <tr>\n",
       "      <th>user-1</th>\n",
       "      <td>3</td>\n",
       "      <td>0</td>\n",
       "      <td>0</td>\n",
       "      <td>0</td>\n",
       "      <td>0</td>\n",
       "      <td>0</td>\n",
       "      <td>2</td>\n",
       "    </tr>\n",
       "    <tr>\n",
       "      <th>user-2</th>\n",
       "      <td>1</td>\n",
       "      <td>2</td>\n",
       "      <td>4</td>\n",
       "      <td>2</td>\n",
       "      <td>2</td>\n",
       "      <td>0</td>\n",
       "      <td>0</td>\n",
       "    </tr>\n",
       "    <tr>\n",
       "      <th>user-3</th>\n",
       "      <td>0</td>\n",
       "      <td>4</td>\n",
       "      <td>1</td>\n",
       "      <td>0</td>\n",
       "      <td>0</td>\n",
       "      <td>2</td>\n",
       "      <td>4</td>\n",
       "    </tr>\n",
       "    <tr>\n",
       "      <th>user-4</th>\n",
       "      <td>0</td>\n",
       "      <td>0</td>\n",
       "      <td>0</td>\n",
       "      <td>0</td>\n",
       "      <td>3</td>\n",
       "      <td>2</td>\n",
       "      <td>4</td>\n",
       "    </tr>\n",
       "  </tbody>\n",
       "</table>\n",
       "</div>"
      ],
      "text/plain": [
       "        item-1  item-2  item-3  item-4  item-5  item-6  item-7\n",
       "user-1       3       0       0       0       0       0       2\n",
       "user-2       1       2       4       2       2       0       0\n",
       "user-3       0       4       1       0       0       2       4\n",
       "user-4       0       0       0       0       3       2       4"
      ]
     },
     "execution_count": 4,
     "metadata": {},
     "output_type": "execute_result"
    }
   ],
   "source": [
    "# toydata to dataframe\n",
    "\n",
    "dfToyData = pd.DataFrame(toyDataMatriks, columns=['item-1', 'item-2', 'item-3', 'item-4','item-5','item-6', 'item-7'], index=['user-1', 'user-2', 'user-3', 'user-4'])\n",
    "dfToyData\n"
   ]
  },
  {
   "cell_type": "code",
   "execution_count": 5,
   "metadata": {},
   "outputs": [
    {
     "data": {
      "text/html": [
       "<div>\n",
       "<style scoped>\n",
       "    .dataframe tbody tr th:only-of-type {\n",
       "        vertical-align: middle;\n",
       "    }\n",
       "\n",
       "    .dataframe tbody tr th {\n",
       "        vertical-align: top;\n",
       "    }\n",
       "\n",
       "    .dataframe thead th {\n",
       "        text-align: right;\n",
       "    }\n",
       "</style>\n",
       "<table border=\"1\" class=\"dataframe\">\n",
       "  <thead>\n",
       "    <tr style=\"text-align: right;\">\n",
       "      <th></th>\n",
       "      <th>1</th>\n",
       "      <th>2</th>\n",
       "      <th>3</th>\n",
       "      <th>4</th>\n",
       "      <th>5</th>\n",
       "      <th>6</th>\n",
       "      <th>7</th>\n",
       "    </tr>\n",
       "  </thead>\n",
       "  <tbody>\n",
       "    <tr>\n",
       "      <th>1</th>\n",
       "      <td>3</td>\n",
       "      <td>0</td>\n",
       "      <td>0</td>\n",
       "      <td>0</td>\n",
       "      <td>0</td>\n",
       "      <td>0</td>\n",
       "      <td>2</td>\n",
       "    </tr>\n",
       "    <tr>\n",
       "      <th>2</th>\n",
       "      <td>1</td>\n",
       "      <td>2</td>\n",
       "      <td>4</td>\n",
       "      <td>2</td>\n",
       "      <td>2</td>\n",
       "      <td>0</td>\n",
       "      <td>0</td>\n",
       "    </tr>\n",
       "    <tr>\n",
       "      <th>3</th>\n",
       "      <td>0</td>\n",
       "      <td>4</td>\n",
       "      <td>1</td>\n",
       "      <td>0</td>\n",
       "      <td>0</td>\n",
       "      <td>2</td>\n",
       "      <td>4</td>\n",
       "    </tr>\n",
       "    <tr>\n",
       "      <th>4</th>\n",
       "      <td>0</td>\n",
       "      <td>0</td>\n",
       "      <td>0</td>\n",
       "      <td>0</td>\n",
       "      <td>3</td>\n",
       "      <td>2</td>\n",
       "      <td>4</td>\n",
       "    </tr>\n",
       "  </tbody>\n",
       "</table>\n",
       "</div>"
      ],
      "text/plain": [
       "   1  2  3  4  5  6  7\n",
       "1  3  0  0  0  0  0  2\n",
       "2  1  2  4  2  2  0  0\n",
       "3  0  4  1  0  0  2  4\n",
       "4  0  0  0  0  3  2  4"
      ]
     },
     "execution_count": 5,
     "metadata": {},
     "output_type": "execute_result"
    }
   ],
   "source": [
    "dfToyData2 = pd.DataFrame(\n",
    "    toyDataMatriks,\n",
    "    columns=[1, 2, 3, 4, 5, 6, 7],  # kolom menggunakan integer\n",
    "    index=[1, 2, 3, 4]  # index juga menggunakan integer\n",
    ")\n",
    "\n",
    "dfToyData2"
   ]
  },
  {
   "cell_type": "markdown",
   "metadata": {},
   "source": [
    "## MEAN"
   ]
  },
  {
   "cell_type": "code",
   "execution_count": 6,
   "metadata": {},
   "outputs": [],
   "source": [
    "def meanJaccard(rating):\n",
    "    pembilang = rating.sum(axis=1)\n",
    "    print('pembilang', pembilang)\n",
    "    penyebut = np.count_nonzero(rating, axis=1)\n",
    "    # menghindari pembagian dengan 0\n",
    "    rumusMean = pembilang / penyebut\n",
    "    calCulatedMean  = np.where(penyebut != 0, rumusMean, 0)\n",
    "    # menghitung mean\n",
    "    meanRatingUser = pd.DataFrame(calCulatedMean, index=rating.index, columns=['meanRating'])\n",
    "    return meanRatingUser"
   ]
  },
  {
   "cell_type": "code",
   "execution_count": 7,
   "metadata": {},
   "outputs": [
    {
     "name": "stdout",
     "output_type": "stream",
     "text": [
      "pembilang user-1     5\n",
      "user-2    11\n",
      "user-3    11\n",
      "user-4     9\n",
      "dtype: int64\n"
     ]
    },
    {
     "data": {
      "text/html": [
       "<div>\n",
       "<style scoped>\n",
       "    .dataframe tbody tr th:only-of-type {\n",
       "        vertical-align: middle;\n",
       "    }\n",
       "\n",
       "    .dataframe tbody tr th {\n",
       "        vertical-align: top;\n",
       "    }\n",
       "\n",
       "    .dataframe thead th {\n",
       "        text-align: right;\n",
       "    }\n",
       "</style>\n",
       "<table border=\"1\" class=\"dataframe\">\n",
       "  <thead>\n",
       "    <tr style=\"text-align: right;\">\n",
       "      <th></th>\n",
       "      <th>meanRating</th>\n",
       "    </tr>\n",
       "  </thead>\n",
       "  <tbody>\n",
       "    <tr>\n",
       "      <th>user-1</th>\n",
       "      <td>2.50</td>\n",
       "    </tr>\n",
       "    <tr>\n",
       "      <th>user-2</th>\n",
       "      <td>2.20</td>\n",
       "    </tr>\n",
       "    <tr>\n",
       "      <th>user-3</th>\n",
       "      <td>2.75</td>\n",
       "    </tr>\n",
       "    <tr>\n",
       "      <th>user-4</th>\n",
       "      <td>3.00</td>\n",
       "    </tr>\n",
       "  </tbody>\n",
       "</table>\n",
       "</div>"
      ],
      "text/plain": [
       "        meanRating\n",
       "user-1        2.50\n",
       "user-2        2.20\n",
       "user-3        2.75\n",
       "user-4        3.00"
      ]
     },
     "execution_count": 7,
     "metadata": {},
     "output_type": "execute_result"
    }
   ],
   "source": [
    "cal_MeanUser = meanJaccard(dfToyData)\n",
    "cal_MeanUser"
   ]
  },
  {
   "cell_type": "code",
   "execution_count": 8,
   "metadata": {},
   "outputs": [
    {
     "name": "stdout",
     "output_type": "stream",
     "text": [
      "pembilang item-1     4\n",
      "item-2     6\n",
      "item-3     5\n",
      "item-4     2\n",
      "item-5     5\n",
      "item-6     4\n",
      "item-7    10\n",
      "dtype: int64\n"
     ]
    },
    {
     "data": {
      "text/html": [
       "<div>\n",
       "<style scoped>\n",
       "    .dataframe tbody tr th:only-of-type {\n",
       "        vertical-align: middle;\n",
       "    }\n",
       "\n",
       "    .dataframe tbody tr th {\n",
       "        vertical-align: top;\n",
       "    }\n",
       "\n",
       "    .dataframe thead th {\n",
       "        text-align: right;\n",
       "    }\n",
       "</style>\n",
       "<table border=\"1\" class=\"dataframe\">\n",
       "  <thead>\n",
       "    <tr style=\"text-align: right;\">\n",
       "      <th></th>\n",
       "      <th>meanRating</th>\n",
       "    </tr>\n",
       "  </thead>\n",
       "  <tbody>\n",
       "    <tr>\n",
       "      <th>item-1</th>\n",
       "      <td>2.000000</td>\n",
       "    </tr>\n",
       "    <tr>\n",
       "      <th>item-2</th>\n",
       "      <td>3.000000</td>\n",
       "    </tr>\n",
       "    <tr>\n",
       "      <th>item-3</th>\n",
       "      <td>2.500000</td>\n",
       "    </tr>\n",
       "    <tr>\n",
       "      <th>item-4</th>\n",
       "      <td>2.000000</td>\n",
       "    </tr>\n",
       "    <tr>\n",
       "      <th>item-5</th>\n",
       "      <td>2.500000</td>\n",
       "    </tr>\n",
       "    <tr>\n",
       "      <th>item-6</th>\n",
       "      <td>2.000000</td>\n",
       "    </tr>\n",
       "    <tr>\n",
       "      <th>item-7</th>\n",
       "      <td>3.333333</td>\n",
       "    </tr>\n",
       "  </tbody>\n",
       "</table>\n",
       "</div>"
      ],
      "text/plain": [
       "        meanRating\n",
       "item-1    2.000000\n",
       "item-2    3.000000\n",
       "item-3    2.500000\n",
       "item-4    2.000000\n",
       "item-5    2.500000\n",
       "item-6    2.000000\n",
       "item-7    3.333333"
      ]
     },
     "execution_count": 8,
     "metadata": {},
     "output_type": "execute_result"
    }
   ],
   "source": [
    "cal_MeanItem = meanJaccard(dfToyData.T)\n",
    "cal_MeanItem"
   ]
  },
  {
   "cell_type": "code",
   "execution_count": 9,
   "metadata": {},
   "outputs": [],
   "source": [
    "# # tranpose\n",
    "\n",
    "# cal_MeanItemTranpose = cal_MeanItem.T\n",
    "# cal_MeanItemTranpose"
   ]
  },
  {
   "cell_type": "markdown",
   "metadata": {},
   "source": [
    "## MEAN CENTERED"
   ]
  },
  {
   "cell_type": "code",
   "execution_count": 10,
   "metadata": {},
   "outputs": [
    {
     "name": "stdout",
     "output_type": "stream",
     "text": [
      "[[1]\n",
      " [2]\n",
      " [3]\n",
      " [4]\n",
      " [5]\n",
      " [6]]\n"
     ]
    }
   ],
   "source": [
    "# Creating a 1D NumPy array \n",
    "arr = np.array([1, 2, 3, 4, 5, 6])\n",
    "\n",
    "# Reshaping the array into a 2D array\n",
    "# '-1' allows to calculate the number of rows based on the total number of elements\n",
    "reshaped_arr = np.reshape(arr, (-1, 1))  \n",
    "print(reshaped_arr)"
   ]
  },
  {
   "cell_type": "code",
   "execution_count": 11,
   "metadata": {},
   "outputs": [],
   "source": [
    "def meanCenterd(rating, meanRating):\n",
    "    npRatingMatriks = np.array(rating)\n",
    "    npMeanRatingUser = np.array(meanRating)\n",
    "    # !0\n",
    "    rumusMeanCenterd = npRatingMatriks - npMeanRatingUser\n",
    "    meanCenteredUser = np.where(npRatingMatriks!=0, rumusMeanCenterd,0)\n",
    "    dfMeanCenteredUser = pd.DataFrame(meanCenteredUser, index=rating.index, columns=rating.columns)\n",
    "\n",
    "    return dfMeanCenteredUser"
   ]
  },
  {
   "cell_type": "code",
   "execution_count": 12,
   "metadata": {},
   "outputs": [
    {
     "data": {
      "text/html": [
       "<div>\n",
       "<style scoped>\n",
       "    .dataframe tbody tr th:only-of-type {\n",
       "        vertical-align: middle;\n",
       "    }\n",
       "\n",
       "    .dataframe tbody tr th {\n",
       "        vertical-align: top;\n",
       "    }\n",
       "\n",
       "    .dataframe thead th {\n",
       "        text-align: right;\n",
       "    }\n",
       "</style>\n",
       "<table border=\"1\" class=\"dataframe\">\n",
       "  <thead>\n",
       "    <tr style=\"text-align: right;\">\n",
       "      <th></th>\n",
       "      <th>item-1</th>\n",
       "      <th>item-2</th>\n",
       "      <th>item-3</th>\n",
       "      <th>item-4</th>\n",
       "      <th>item-5</th>\n",
       "      <th>item-6</th>\n",
       "      <th>item-7</th>\n",
       "    </tr>\n",
       "  </thead>\n",
       "  <tbody>\n",
       "    <tr>\n",
       "      <th>user-1</th>\n",
       "      <td>0.5</td>\n",
       "      <td>0.00</td>\n",
       "      <td>0.00</td>\n",
       "      <td>0.0</td>\n",
       "      <td>0.0</td>\n",
       "      <td>0.00</td>\n",
       "      <td>-0.50</td>\n",
       "    </tr>\n",
       "    <tr>\n",
       "      <th>user-2</th>\n",
       "      <td>-1.2</td>\n",
       "      <td>-0.20</td>\n",
       "      <td>1.80</td>\n",
       "      <td>-0.2</td>\n",
       "      <td>-0.2</td>\n",
       "      <td>0.00</td>\n",
       "      <td>0.00</td>\n",
       "    </tr>\n",
       "    <tr>\n",
       "      <th>user-3</th>\n",
       "      <td>0.0</td>\n",
       "      <td>1.25</td>\n",
       "      <td>-1.75</td>\n",
       "      <td>0.0</td>\n",
       "      <td>0.0</td>\n",
       "      <td>-0.75</td>\n",
       "      <td>1.25</td>\n",
       "    </tr>\n",
       "    <tr>\n",
       "      <th>user-4</th>\n",
       "      <td>0.0</td>\n",
       "      <td>0.00</td>\n",
       "      <td>0.00</td>\n",
       "      <td>0.0</td>\n",
       "      <td>0.0</td>\n",
       "      <td>-1.00</td>\n",
       "      <td>1.00</td>\n",
       "    </tr>\n",
       "  </tbody>\n",
       "</table>\n",
       "</div>"
      ],
      "text/plain": [
       "        item-1  item-2  item-3  item-4  item-5  item-6  item-7\n",
       "user-1     0.5    0.00    0.00     0.0     0.0    0.00   -0.50\n",
       "user-2    -1.2   -0.20    1.80    -0.2    -0.2    0.00    0.00\n",
       "user-3     0.0    1.25   -1.75     0.0     0.0   -0.75    1.25\n",
       "user-4     0.0    0.00    0.00     0.0     0.0   -1.00    1.00"
      ]
     },
     "execution_count": 12,
     "metadata": {},
     "output_type": "execute_result"
    }
   ],
   "source": [
    "cal_MeanCenteredUser = meanCenterd(dfToyData, cal_MeanUser)\n",
    "cal_MeanCenteredUser"
   ]
  },
  {
   "cell_type": "code",
   "execution_count": 13,
   "metadata": {},
   "outputs": [
    {
     "data": {
      "text/html": [
       "<div>\n",
       "<style scoped>\n",
       "    .dataframe tbody tr th:only-of-type {\n",
       "        vertical-align: middle;\n",
       "    }\n",
       "\n",
       "    .dataframe tbody tr th {\n",
       "        vertical-align: top;\n",
       "    }\n",
       "\n",
       "    .dataframe thead th {\n",
       "        text-align: right;\n",
       "    }\n",
       "</style>\n",
       "<table border=\"1\" class=\"dataframe\">\n",
       "  <thead>\n",
       "    <tr style=\"text-align: right;\">\n",
       "      <th></th>\n",
       "      <th>user-1</th>\n",
       "      <th>user-2</th>\n",
       "      <th>user-3</th>\n",
       "      <th>user-4</th>\n",
       "    </tr>\n",
       "  </thead>\n",
       "  <tbody>\n",
       "    <tr>\n",
       "      <th>item-1</th>\n",
       "      <td>1.000000</td>\n",
       "      <td>-1.0</td>\n",
       "      <td>0.000000</td>\n",
       "      <td>0.000000</td>\n",
       "    </tr>\n",
       "    <tr>\n",
       "      <th>item-2</th>\n",
       "      <td>0.000000</td>\n",
       "      <td>-1.0</td>\n",
       "      <td>1.000000</td>\n",
       "      <td>0.000000</td>\n",
       "    </tr>\n",
       "    <tr>\n",
       "      <th>item-3</th>\n",
       "      <td>0.000000</td>\n",
       "      <td>1.5</td>\n",
       "      <td>-1.500000</td>\n",
       "      <td>0.000000</td>\n",
       "    </tr>\n",
       "    <tr>\n",
       "      <th>item-4</th>\n",
       "      <td>0.000000</td>\n",
       "      <td>0.0</td>\n",
       "      <td>0.000000</td>\n",
       "      <td>0.000000</td>\n",
       "    </tr>\n",
       "    <tr>\n",
       "      <th>item-5</th>\n",
       "      <td>0.000000</td>\n",
       "      <td>-0.5</td>\n",
       "      <td>0.000000</td>\n",
       "      <td>0.500000</td>\n",
       "    </tr>\n",
       "    <tr>\n",
       "      <th>item-6</th>\n",
       "      <td>0.000000</td>\n",
       "      <td>0.0</td>\n",
       "      <td>0.000000</td>\n",
       "      <td>0.000000</td>\n",
       "    </tr>\n",
       "    <tr>\n",
       "      <th>item-7</th>\n",
       "      <td>-1.333333</td>\n",
       "      <td>0.0</td>\n",
       "      <td>0.666667</td>\n",
       "      <td>0.666667</td>\n",
       "    </tr>\n",
       "  </tbody>\n",
       "</table>\n",
       "</div>"
      ],
      "text/plain": [
       "          user-1  user-2    user-3    user-4\n",
       "item-1  1.000000    -1.0  0.000000  0.000000\n",
       "item-2  0.000000    -1.0  1.000000  0.000000\n",
       "item-3  0.000000     1.5 -1.500000  0.000000\n",
       "item-4  0.000000     0.0  0.000000  0.000000\n",
       "item-5  0.000000    -0.5  0.000000  0.500000\n",
       "item-6  0.000000     0.0  0.000000  0.000000\n",
       "item-7 -1.333333     0.0  0.666667  0.666667"
      ]
     },
     "execution_count": 13,
     "metadata": {},
     "output_type": "execute_result"
    }
   ],
   "source": [
    "cal_MeanCenteredItem = meanCenterd(dfToyData.T, cal_MeanItem)\n",
    "cal_MeanCenteredItem\n"
   ]
  },
  {
   "cell_type": "code",
   "execution_count": 14,
   "metadata": {},
   "outputs": [
    {
     "data": {
      "text/html": [
       "<div>\n",
       "<style scoped>\n",
       "    .dataframe tbody tr th:only-of-type {\n",
       "        vertical-align: middle;\n",
       "    }\n",
       "\n",
       "    .dataframe tbody tr th {\n",
       "        vertical-align: top;\n",
       "    }\n",
       "\n",
       "    .dataframe thead th {\n",
       "        text-align: right;\n",
       "    }\n",
       "</style>\n",
       "<table border=\"1\" class=\"dataframe\">\n",
       "  <thead>\n",
       "    <tr style=\"text-align: right;\">\n",
       "      <th></th>\n",
       "      <th>item-1</th>\n",
       "      <th>item-2</th>\n",
       "      <th>item-3</th>\n",
       "      <th>item-4</th>\n",
       "      <th>item-5</th>\n",
       "      <th>item-6</th>\n",
       "      <th>item-7</th>\n",
       "    </tr>\n",
       "  </thead>\n",
       "  <tbody>\n",
       "    <tr>\n",
       "      <th>user-1</th>\n",
       "      <td>1.0</td>\n",
       "      <td>0.0</td>\n",
       "      <td>0.0</td>\n",
       "      <td>0.0</td>\n",
       "      <td>0.0</td>\n",
       "      <td>0.0</td>\n",
       "      <td>-1.333333</td>\n",
       "    </tr>\n",
       "    <tr>\n",
       "      <th>user-2</th>\n",
       "      <td>-1.0</td>\n",
       "      <td>-1.0</td>\n",
       "      <td>1.5</td>\n",
       "      <td>0.0</td>\n",
       "      <td>-0.5</td>\n",
       "      <td>0.0</td>\n",
       "      <td>0.000000</td>\n",
       "    </tr>\n",
       "    <tr>\n",
       "      <th>user-3</th>\n",
       "      <td>0.0</td>\n",
       "      <td>1.0</td>\n",
       "      <td>-1.5</td>\n",
       "      <td>0.0</td>\n",
       "      <td>0.0</td>\n",
       "      <td>0.0</td>\n",
       "      <td>0.666667</td>\n",
       "    </tr>\n",
       "    <tr>\n",
       "      <th>user-4</th>\n",
       "      <td>0.0</td>\n",
       "      <td>0.0</td>\n",
       "      <td>0.0</td>\n",
       "      <td>0.0</td>\n",
       "      <td>0.5</td>\n",
       "      <td>0.0</td>\n",
       "      <td>0.666667</td>\n",
       "    </tr>\n",
       "  </tbody>\n",
       "</table>\n",
       "</div>"
      ],
      "text/plain": [
       "        item-1  item-2  item-3  item-4  item-5  item-6    item-7\n",
       "user-1     1.0     0.0     0.0     0.0     0.0     0.0 -1.333333\n",
       "user-2    -1.0    -1.0     1.5     0.0    -0.5     0.0  0.000000\n",
       "user-3     0.0     1.0    -1.5     0.0     0.0     0.0  0.666667\n",
       "user-4     0.0     0.0     0.0     0.0     0.5     0.0  0.666667"
      ]
     },
     "execution_count": 14,
     "metadata": {},
     "output_type": "execute_result"
    }
   ],
   "source": [
    "cal_MeanCenteredItemTranpose = cal_MeanCenteredItem.T\n",
    "cal_MeanCenteredItemTranpose"
   ]
  },
  {
   "cell_type": "markdown",
   "metadata": {},
   "source": [
    "## USER-BASED"
   ]
  },
  {
   "cell_type": "code",
   "execution_count": 15,
   "metadata": {},
   "outputs": [],
   "source": [
    "def simJaccardDuaUser(rating, penggunaU, penggunaV):\n",
    "    # Dapatkan item yang dirating (tidak sama dengan 0)\n",
    "    itemRated1 = set(np.where(rating.loc[penggunaU, :] != 0)[0])\n",
    "    print('itemRated1', itemRated1)\n",
    "    itemRated2 = set(np.where(rating.loc[penggunaV, :] != 0)[0])\n",
    "    print('itemRated2', itemRated2)\n",
    "    itemRatedPenggunaU = set(rating.columns[rating.loc[penggunaU, : ] != 0])\n",
    "    print('itemRatedPenggunaU', itemRatedPenggunaU)\n",
    "    itemRatedPenggunaV = set(rating.columns[rating.loc[penggunaV, : ] != 0])\n",
    "    print('itemRatedPenggunaV', itemRatedPenggunaV)\n",
    "    itemRatedPenggunaU2 = set(rating.columns[rating.iloc[penggunaU, : ] != 0])\n",
    "    print('itemRatedPenggunaU2', itemRatedPenggunaU2)\n",
    "    itemRatedPenggunaV2 = set(rating.columns[rating.iloc[penggunaV, : ] != 0])\n",
    "    print('itemRatedPenggunaV2', itemRatedPenggunaV2)\n",
    "    # itemNoRated1 = set(np.where(RatingMatriks.loc[index1, :] == 0)[0])\n",
    "    #print('item no rated1', itemNoRated1)\n",
    "    # Hitung Jaccard similarity\n",
    "    intersection2 = len(itemRated1.intersection(itemRated2))\n",
    "    union2 = len(itemRated1.union(itemRated2))\n",
    "    print('intersection', intersection2)\n",
    "    intersection = len(itemRatedPenggunaU.intersection(itemRatedPenggunaV))\n",
    "    print('intersection', intersection)\n",
    "    union = len(itemRatedPenggunaU.union(itemRatedPenggunaV))\n",
    "    print('union', union)\n",
    "    rumus = intersection / union\n",
    "    rumus2 = intersection2 / union2\n",
    "    print(f'jac,, {rumus} ')\n",
    "    print(f'jac2,, {rumus2} ')\n",
    "\n",
    "    if union != 0:\n",
    "        return intersection2 / union\n",
    "    else:\n",
    "        return 0\n"
   ]
  },
  {
   "cell_type": "code",
   "execution_count": 16,
   "metadata": {},
   "outputs": [
    {
     "name": "stdout",
     "output_type": "stream",
     "text": [
      "itemRated1 {0, 6}\n",
      "itemRated2 {1, 2, 5, 6}\n",
      "itemRatedPenggunaU {1, 7}\n",
      "itemRatedPenggunaV {2, 3, 6, 7}\n",
      "itemRatedPenggunaU2 {1, 2, 3, 4, 5}\n",
      "itemRatedPenggunaV2 {5, 6, 7}\n",
      "intersection 1\n",
      "intersection 1\n",
      "union 5\n",
      "jac,, 0.2 \n",
      "jac2,, 0.2 \n",
      "Jaccard Similarity between user-1 and user-3 is 0.2\n"
     ]
    }
   ],
   "source": [
    "cal_SimDuaUser = simJaccardDuaUser(dfToyData2, 1, 3)\n",
    "print(f\"Jaccard Similarity between user-1 and user-3 is {cal_SimDuaUser}\")"
   ]
  },
  {
   "cell_type": "code",
   "execution_count": 17,
   "metadata": {},
   "outputs": [],
   "source": [
    "def simJaccardDuaUser(rating, penggunaU, penggunaV):\n",
    "    # Dapatkan item yang dirating (tidak sama dengan 0)\n",
    "    itemRatedPenggunaU = set(rating.columns[rating.iloc[penggunaU, : ] != 0])\n",
    "    print('itemRatedPenggunaU', itemRatedPenggunaU)\n",
    "    itemRatedPenggunaV = set(rating.columns[rating.iloc[penggunaV, : ] != 0])\n",
    "    print('itemRatedPenggunaV', itemRatedPenggunaV)\n",
    "    # Hitung Jaccard similarity\n",
    "    intersection = len(itemRatedPenggunaU.intersection(itemRatedPenggunaV))\n",
    "    union = len(itemRatedPenggunaU.union(itemRatedPenggunaV))\n",
    "\n",
    "    if union != 0:\n",
    "        return intersection / union\n",
    "    else:\n",
    "        return 0\n"
   ]
  },
  {
   "cell_type": "code",
   "execution_count": 18,
   "metadata": {},
   "outputs": [
    {
     "name": "stdout",
     "output_type": "stream",
     "text": [
      "itemRatedPenggunaU {1, 7}\n",
      "itemRatedPenggunaV {1, 2, 3, 4, 5}\n",
      "Jaccard Similarity between user-1 and user-2 is 0.16666666666666666\n"
     ]
    }
   ],
   "source": [
    "calDuaUser = simJaccardDuaUser(dfToyData2, 0, 1)\n",
    "print(f\"Jaccard Similarity between user-1 and user-2 is {calDuaUser}\")"
   ]
  },
  {
   "cell_type": "markdown",
   "metadata": {},
   "source": [
    "## ITEM BASED"
   ]
  },
  {
   "cell_type": "code",
   "execution_count": 19,
   "metadata": {},
   "outputs": [],
   "source": [
    "def simJaccardDuaItem(rating, itemI, itemJ):\n",
    "    # mendapatkan user yang sudah memberikan rating pada item I\n",
    "    itemRatedItemI = set(rating.index[rating.iloc[:, itemI] != 0])\n",
    "    # user yang sudah memberikan raitng pada item J\n",
    "    itemRatedItemJ = set(rating.index[rating.iloc[:, itemJ] != 0])\n",
    "\n",
    "\n",
    "    # Hitung Jaccard similarity\n",
    "    intersection = len(itemRatedItemI.intersection(itemRatedItemJ))\n",
    "    union = len(itemRatedItemI.union(itemRatedItemJ))\n",
    "\n",
    "    rumusJaccardItem = intersection/union\n",
    "    if intersection != 0:\n",
    "        return rumusJaccardItem\n",
    "    else:\n",
    "        return 0\n"
   ]
  },
  {
   "cell_type": "code",
   "execution_count": 20,
   "metadata": {},
   "outputs": [
    {
     "name": "stdout",
     "output_type": "stream",
     "text": [
      "Jaccard Similarity between item-1 and item-2 is 0.3333333333333333\n"
     ]
    }
   ],
   "source": [
    "simJaccardDuaItemW = simJaccardDuaItem(dfToyData, 0, 1)\n",
    "print(f\"Jaccard Similarity between item-1 and item-2 is {simJaccardDuaItemW}\")"
   ]
  },
  {
   "cell_type": "markdown",
   "metadata": {},
   "source": [
    "## ALL SIMILARITY"
   ]
  },
  {
   "cell_type": "code",
   "execution_count": 21,
   "metadata": {},
   "outputs": [],
   "source": [
    "def similarityAllUserItem(rating, jenis=\"user\"):\n",
    "    if jenis == \"user\" : \n",
    "        jumlahUser = rating.shape[0]\n",
    "        matriksSimilarity = np.zeros((jumlahUser, jumlahUser))\n",
    "        np.fill_diagonal(matriksSimilarity, 1)\n",
    "        for i in range (jumlahUser):\n",
    "            for j in range(i+1, jumlahUser):\n",
    "                rumusSimJaccardUser = simJaccardDuaUser(rating, i, j)\n",
    "                matriksSimilarity[i][j] = rumusSimJaccardUser\n",
    "                matriksSimilarity[j][i] = rumusSimJaccardUser\n",
    "        simMatriksDF = pd.DataFrame(matriksSimilarity, index=rating.index, columns=rating.index)\n",
    "    elif jenis == \"item\" : \n",
    "        jumlahItem = rating.shape[1]\n",
    "        matriksSimilarity = np.zeros((jumlahItem, jumlahItem))\n",
    "        np.fill_diagonal(matriksSimilarity, 1)\n",
    "        for i in range (jumlahItem):\n",
    "            for j in range(i+1, jumlahItem):\n",
    "                rumusSimJaccardItem = simJaccardDuaItem(rating, i, j)\n",
    "                matriksSimilarity[i][j] = rumusSimJaccardItem\n",
    "                matriksSimilarity[j][i] = rumusSimJaccardItem\n",
    "        simMatriksDF = pd.DataFrame(matriksSimilarity, index=rating.columns, columns=rating.columns)\n",
    "    return simMatriksDF"
   ]
  },
  {
   "cell_type": "code",
   "execution_count": 22,
   "metadata": {},
   "outputs": [
    {
     "name": "stdout",
     "output_type": "stream",
     "text": [
      "itemRatedPenggunaU {'item-1', 'item-7'}\n",
      "itemRatedPenggunaV {'item-1', 'item-2', 'item-5', 'item-4', 'item-3'}\n",
      "itemRatedPenggunaU {'item-1', 'item-7'}\n",
      "itemRatedPenggunaV {'item-3', 'item-2', 'item-6', 'item-7'}\n",
      "itemRatedPenggunaU {'item-1', 'item-7'}\n",
      "itemRatedPenggunaV {'item-7', 'item-6', 'item-5'}\n",
      "itemRatedPenggunaU {'item-1', 'item-2', 'item-5', 'item-4', 'item-3'}\n",
      "itemRatedPenggunaV {'item-3', 'item-2', 'item-6', 'item-7'}\n",
      "itemRatedPenggunaU {'item-1', 'item-2', 'item-5', 'item-4', 'item-3'}\n",
      "itemRatedPenggunaV {'item-7', 'item-6', 'item-5'}\n",
      "itemRatedPenggunaU {'item-3', 'item-2', 'item-6', 'item-7'}\n",
      "itemRatedPenggunaV {'item-7', 'item-6', 'item-5'}\n"
     ]
    },
    {
     "data": {
      "text/html": [
       "<div>\n",
       "<style scoped>\n",
       "    .dataframe tbody tr th:only-of-type {\n",
       "        vertical-align: middle;\n",
       "    }\n",
       "\n",
       "    .dataframe tbody tr th {\n",
       "        vertical-align: top;\n",
       "    }\n",
       "\n",
       "    .dataframe thead th {\n",
       "        text-align: right;\n",
       "    }\n",
       "</style>\n",
       "<table border=\"1\" class=\"dataframe\">\n",
       "  <thead>\n",
       "    <tr style=\"text-align: right;\">\n",
       "      <th></th>\n",
       "      <th>user-1</th>\n",
       "      <th>user-2</th>\n",
       "      <th>user-3</th>\n",
       "      <th>user-4</th>\n",
       "    </tr>\n",
       "  </thead>\n",
       "  <tbody>\n",
       "    <tr>\n",
       "      <th>user-1</th>\n",
       "      <td>1.000000</td>\n",
       "      <td>0.166667</td>\n",
       "      <td>0.200000</td>\n",
       "      <td>0.250000</td>\n",
       "    </tr>\n",
       "    <tr>\n",
       "      <th>user-2</th>\n",
       "      <td>0.166667</td>\n",
       "      <td>1.000000</td>\n",
       "      <td>0.285714</td>\n",
       "      <td>0.142857</td>\n",
       "    </tr>\n",
       "    <tr>\n",
       "      <th>user-3</th>\n",
       "      <td>0.200000</td>\n",
       "      <td>0.285714</td>\n",
       "      <td>1.000000</td>\n",
       "      <td>0.400000</td>\n",
       "    </tr>\n",
       "    <tr>\n",
       "      <th>user-4</th>\n",
       "      <td>0.250000</td>\n",
       "      <td>0.142857</td>\n",
       "      <td>0.400000</td>\n",
       "      <td>1.000000</td>\n",
       "    </tr>\n",
       "  </tbody>\n",
       "</table>\n",
       "</div>"
      ],
      "text/plain": [
       "          user-1    user-2    user-3    user-4\n",
       "user-1  1.000000  0.166667  0.200000  0.250000\n",
       "user-2  0.166667  1.000000  0.285714  0.142857\n",
       "user-3  0.200000  0.285714  1.000000  0.400000\n",
       "user-4  0.250000  0.142857  0.400000  1.000000"
      ]
     },
     "execution_count": 22,
     "metadata": {},
     "output_type": "execute_result"
    }
   ],
   "source": [
    "cal_SimUserJaccard = similarityAllUserItem(dfToyData, \"user\")\n",
    "cal_SimUserJaccard"
   ]
  },
  {
   "cell_type": "code",
   "execution_count": 23,
   "metadata": {},
   "outputs": [
    {
     "data": {
      "text/html": [
       "<div>\n",
       "<style scoped>\n",
       "    .dataframe tbody tr th:only-of-type {\n",
       "        vertical-align: middle;\n",
       "    }\n",
       "\n",
       "    .dataframe tbody tr th {\n",
       "        vertical-align: top;\n",
       "    }\n",
       "\n",
       "    .dataframe thead th {\n",
       "        text-align: right;\n",
       "    }\n",
       "</style>\n",
       "<table border=\"1\" class=\"dataframe\">\n",
       "  <thead>\n",
       "    <tr style=\"text-align: right;\">\n",
       "      <th></th>\n",
       "      <th>item-1</th>\n",
       "      <th>item-2</th>\n",
       "      <th>item-3</th>\n",
       "      <th>item-4</th>\n",
       "      <th>item-5</th>\n",
       "      <th>item-6</th>\n",
       "      <th>item-7</th>\n",
       "    </tr>\n",
       "  </thead>\n",
       "  <tbody>\n",
       "    <tr>\n",
       "      <th>item-1</th>\n",
       "      <td>1.000000</td>\n",
       "      <td>0.333333</td>\n",
       "      <td>0.333333</td>\n",
       "      <td>0.5</td>\n",
       "      <td>0.333333</td>\n",
       "      <td>0.000000</td>\n",
       "      <td>0.250000</td>\n",
       "    </tr>\n",
       "    <tr>\n",
       "      <th>item-2</th>\n",
       "      <td>0.333333</td>\n",
       "      <td>1.000000</td>\n",
       "      <td>1.000000</td>\n",
       "      <td>0.5</td>\n",
       "      <td>0.333333</td>\n",
       "      <td>0.333333</td>\n",
       "      <td>0.250000</td>\n",
       "    </tr>\n",
       "    <tr>\n",
       "      <th>item-3</th>\n",
       "      <td>0.333333</td>\n",
       "      <td>1.000000</td>\n",
       "      <td>1.000000</td>\n",
       "      <td>0.5</td>\n",
       "      <td>0.333333</td>\n",
       "      <td>0.333333</td>\n",
       "      <td>0.250000</td>\n",
       "    </tr>\n",
       "    <tr>\n",
       "      <th>item-4</th>\n",
       "      <td>0.500000</td>\n",
       "      <td>0.500000</td>\n",
       "      <td>0.500000</td>\n",
       "      <td>1.0</td>\n",
       "      <td>0.500000</td>\n",
       "      <td>0.000000</td>\n",
       "      <td>0.000000</td>\n",
       "    </tr>\n",
       "    <tr>\n",
       "      <th>item-5</th>\n",
       "      <td>0.333333</td>\n",
       "      <td>0.333333</td>\n",
       "      <td>0.333333</td>\n",
       "      <td>0.5</td>\n",
       "      <td>1.000000</td>\n",
       "      <td>0.333333</td>\n",
       "      <td>0.250000</td>\n",
       "    </tr>\n",
       "    <tr>\n",
       "      <th>item-6</th>\n",
       "      <td>0.000000</td>\n",
       "      <td>0.333333</td>\n",
       "      <td>0.333333</td>\n",
       "      <td>0.0</td>\n",
       "      <td>0.333333</td>\n",
       "      <td>1.000000</td>\n",
       "      <td>0.666667</td>\n",
       "    </tr>\n",
       "    <tr>\n",
       "      <th>item-7</th>\n",
       "      <td>0.250000</td>\n",
       "      <td>0.250000</td>\n",
       "      <td>0.250000</td>\n",
       "      <td>0.0</td>\n",
       "      <td>0.250000</td>\n",
       "      <td>0.666667</td>\n",
       "      <td>1.000000</td>\n",
       "    </tr>\n",
       "  </tbody>\n",
       "</table>\n",
       "</div>"
      ],
      "text/plain": [
       "          item-1    item-2    item-3  item-4    item-5    item-6    item-7\n",
       "item-1  1.000000  0.333333  0.333333     0.5  0.333333  0.000000  0.250000\n",
       "item-2  0.333333  1.000000  1.000000     0.5  0.333333  0.333333  0.250000\n",
       "item-3  0.333333  1.000000  1.000000     0.5  0.333333  0.333333  0.250000\n",
       "item-4  0.500000  0.500000  0.500000     1.0  0.500000  0.000000  0.000000\n",
       "item-5  0.333333  0.333333  0.333333     0.5  1.000000  0.333333  0.250000\n",
       "item-6  0.000000  0.333333  0.333333     0.0  0.333333  1.000000  0.666667\n",
       "item-7  0.250000  0.250000  0.250000     0.0  0.250000  0.666667  1.000000"
      ]
     },
     "execution_count": 23,
     "metadata": {},
     "output_type": "execute_result"
    }
   ],
   "source": [
    "cal_SimItemJaccard = similarityAllUserItem(dfToyData, \"item\")\n",
    "cal_SimItemJaccard"
   ]
  },
  {
   "cell_type": "markdown",
   "metadata": {},
   "source": [
    "## PREDIKSI \n"
   ]
  },
  {
   "cell_type": "markdown",
   "metadata": {},
   "source": [
    "### TOP-K"
   ]
  },
  {
   "cell_type": "code",
   "execution_count": 74,
   "metadata": {},
   "outputs": [],
   "source": [
    "def TetanggaK(target_user, target_item, matriks_rating, similarity, k, jenis=\"user-based\"):\n",
    "    rating_matrix = matriks_rating.to_numpy()  # Convert ke NumPy untuk efisiensi\n",
    "    if jenis == \"user-based\":\n",
    "        # mendapatkan rating dari user yang ditargetkan\n",
    "        item_ratings = rating_matrix[:, target_item]\n",
    "        # mencari item yang sudah di rating oleh user\n",
    "        item_rated_by = np.flatnonzero(item_ratings)\n",
    "        # print(f\"item rated by {len(item_rated_by)}\")\n",
    "        item_rated_by = item_rated_by[item_rated_by != target_user]\n",
    "        # ambil valaue similarity dari user yang ditargetkan ke item yang sudah di rating oleh user\n",
    "        sim_scores = similarity.values[target_user, item_rated_by]\n",
    "        indices = item_rated_by\n",
    "    else:  # item-based\n",
    "        user_ratings = rating_matrix[target_user, :]\n",
    "        # print(f'user rating {len(user_ratings)}')\n",
    "        items_rated = np.flatnonzero(user_ratings)\n",
    "        items_rated = items_rated[items_rated != target_item]\n",
    "\n",
    "        sim_scores = similarity.values[items_rated, target_item]\n",
    "        indices = items_rated\n",
    "    #diurutka nilai terbesar ke terkecil\n",
    "    sorted_idx = np.argsort(-sim_scores)[:k]\n",
    "    # simScores = sim_scores\n",
    "    print(f\"sim scores {sim_scores}\")\n",
    "    print(f\"sorted idx {sorted_idx}\")\n",
    "    # maping tetang ulang berdasarkan index asli \n",
    "    top_neighbors = [indices[i] for i in sorted_idx]\n",
    "    print(f\"top neighbors {top_neighbors}\")\n",
    "    print(f\"sim scores2 {sim_scores[sorted_idx]}\")\n",
    "    return top_neighbors\n"
   ]
  },
  {
   "cell_type": "code",
   "execution_count": 75,
   "metadata": {},
   "outputs": [
    {
     "name": "stdout",
     "output_type": "stream",
     "text": [
      "sim scores [0.33333333 0.25      ]\n",
      "sorted idx [0 1]\n",
      "top neighbors [0, 6]\n",
      "sim scores2 [0.33333333 0.25      ]\n",
      "tetangga K [0, 6]\n"
     ]
    }
   ],
   "source": [
    "calTetanggaK = TetanggaK(0, 1, dfToyData, cal_SimItemJaccard, 5, \"item-based\")\n",
    "print(f\"tetangga K {calTetanggaK}\")"
   ]
  },
  {
   "cell_type": "code",
   "execution_count": null,
   "metadata": {},
   "outputs": [],
   "source": [
    "# def TetanggaK2(target_user, target_item, matriks_rating, similarity, k, jenis=\"user-based\"):\n",
    "#     # jika jenis user-based\n",
    "#     if jenis == \"user-based\":\n",
    "#         # daftar user lain yang sudah memberi rating pada item target\n",
    "#         # memilih user yang tidak sama dengan target user\n",
    "#         # dan hanya memilih user yang telah memberikan rating pada item target, yang lebih dari 0\n",
    "#         filter_indices = [\n",
    "#             u for u in matriks_rating.index\n",
    "#             if u != target_user and matriks_rating.loc[u, target_item] > 0\n",
    "#         ]\n",
    "#         # Ambil nilai similarity terhadap user target yang ada di filter indices, baris target user dan kolom user pada filter, array\n",
    "#         sim_scores = similarity.loc[target_user, filter_indices].values\n",
    "#     # jika jenis item-based\n",
    "#     elif jenis == \"item-based\":\n",
    "#         # Ambil item-item lain yang pernah diberi rating oleh user target\n",
    "#         # memilih item yang tidak sama dengan target item\n",
    "#         # dan hanya memilih item yang telah memberikan rating pada user target, yang lebih dari 0\n",
    "#         filter_indices = [\n",
    "#             i for i in matriks_rating.columns\n",
    "#             if i != target_item and matriks_rating.loc[target_user, i] > 0\n",
    "#         ]\n",
    "#         # Ambil nilai similarity terhadap item target yang ada di filter indices, baris target item dan kolom item pada filter, array\n",
    "#         sim_scores = similarity.loc[target_item, filter_indices].values\n",
    "#     #mengambil index dari banyak k yang paling mirip, paling besar, mengambil k indexs pertama\n",
    "#     top_k_idx = np.argsort(-sim_scores)[:k]\n",
    "#     print(\"top_k_idx\", top_k_idx)\n",
    "#     # mapping ulang sesuai dengan index pada rating matriks\n",
    "#     top_k_items = [filter_indices[i] for i in top_k_idx]\n",
    "#     print(sim_scores[top_k_idx])\n",
    "#     return top_k_items\n"
   ]
  },
  {
   "cell_type": "code",
   "execution_count": null,
   "metadata": {},
   "outputs": [],
   "source": [
    "# def TetanggaK(target_user, target_item, matriks_rating, similarity, k, jenis=\"user\"):\n",
    "#     if jenis == \"user\":\n",
    "#         # Cari user lain (index) yang memberi rating pada item tertentu\n",
    "#         #baris\n",
    "#         filter_indices = [i for i in range(matriks_rating.shape[0])\n",
    "#                             #tidak dirinya sendiri, cek user i memberi rating pada item target, list,  baris dan kolom\n",
    "#                             #akan mengembalikan nilai rating yang diberikan oleh user ke-i terhadap item ke-target. yang lebih dari 0\n",
    "#                             if i != target_user and matriks_rating.iloc[i, target_item] > 0]\n",
    "\n",
    "#         print(f\"Jumlah user: {matriks_rating.shape[0]}\")\n",
    "#         print(f\"Target user: {target_user}\")\n",
    "#         print(f\"Target item: {target_item}\")\n",
    "\n",
    "        \n",
    "\n",
    "#         # yang belum di rating\n",
    "#         filterbELUMRating = [i for i in range(matriks_rating.shape[0])\n",
    "#                             #tidak dirinya sendiri, cek user i memberi rating pada item target, list\n",
    "#                             if  matriks_rating.iloc[i, target_item] == 0]\n",
    "        \n",
    "#         print(filterbELUMRating)\n",
    "\n",
    "#         print(\"filter index\", filter_indices)\n",
    "#         #index, baris, kolom kandidat yang di ambil, array\n",
    "#         sim_scores = similarity.iloc[target_user, filter_indices].values\n",
    "#         print(\"sim\", sim_scores)\n",
    "#     else:\n",
    "#         # Cari item lain (index) yang pernah dinilai oleh user tertentu\n",
    "#         #kolom\n",
    "#         filter_indices = [j for j in range(matriks_rating.shape[1])\n",
    "#                             #tidak dirinya sendiri, cek user target memberi rating pada item j, list\n",
    "#                             if j != target_user and matriks_rating.iloc[target_item, j] > 0]\n",
    "#         #index, kolom, baris kandidat yang di ambil, array\n",
    "#         sim_scores = similarity.iloc[target_user, filter_indices].values\n",
    "\n",
    "#     # Urutkan index berdasarkan similarity, dari yang tertinggi ke terendah, index k\n",
    "#     top_k_idx = np.argsort(-sim_scores)[:k]\n",
    "#     print(\"top k\", top_k_idx)\n",
    "#     # list comprehension, list int\n",
    "#     top_k_indices = [filter_indices[i] for i in top_k_idx]\n",
    "#     # list int\n",
    "#     return top_k_indices\n"
   ]
  },
  {
   "cell_type": "code",
   "execution_count": 72,
   "metadata": {},
   "outputs": [],
   "source": [
    "def prediksiCF_v2(RatingMatriks, similarityFunction, mean, meanCen, user=2, item=2, k=2, jenis=\"user-based\"):\n",
    "    # jika jenis user-based\n",
    "    if jenis == \"user-based\":\n",
    "        target_user1 = user\n",
    "        target_item2 = item\n",
    "        # ambil mean rating user target\n",
    "        mean_value = mean.iloc[user]\n",
    "        # print(\"mean\", mean_value)\n",
    "    elif jenis == \"item-based\":\n",
    "        target_user1 = item\n",
    "        target_item2 = user\n",
    "        # ambil mean rating item target\n",
    "        mean_value = mean.iloc[item]\n",
    "    # Ambil top-k tetangga\n",
    "    tetangga = TetanggaK(\n",
    "        target_user=target_user1,\n",
    "        target_item=target_item2,\n",
    "        matriks_rating=RatingMatriks,\n",
    "        similarity=similarityFunction,\n",
    "        k=k,\n",
    "        jenis=jenis\n",
    "    )\n",
    "    # print(f\"tetangga {len(tetangga)}\")\n",
    "    # menyiapkan pembilang dan penyebut untuk menghitung prediksi rating\n",
    "    pembilang = 0\n",
    "    penyebut = 0\n",
    "    # loop sesuai dengan banyak tetangga\n",
    "    for tetangga_idx in tetangga:\n",
    "        if jenis == \"user-based\":\n",
    "            # mengambil sim antara user dan tetangga\n",
    "            sim = similarityFunction.iloc[user, tetangga_idx]\n",
    "            # print(f\"sim {user}-{tetangga_idx} = {sim}\")\n",
    "            mean_cen = meanCen.iloc[tetangga_idx, item]\n",
    "            # print(f\"mean_cen {tetangga_idx}-{item} = {mean_cen}\")\n",
    "        else:  # item-based\n",
    "            # mengambil sim antara item dan tetangga\n",
    "            sim = similarityFunction.iloc[tetangga_idx, item]\n",
    "            # mengambil mean centered rating untuk user target dari tetangga\n",
    "            mean_cen = meanCen.iloc[user, tetangga_idx]\n",
    "        pembilang += mean_cen * sim\n",
    "        # print(\"pembilang\", (pembilang))\n",
    "        # menghitung penyebut\n",
    "        penyebut += abs(sim)\n",
    "        # print(\"penyebut\", penyebut)\n",
    "    # jika penyebut == 0, maka hitung predikis\n",
    "    if penyebut != 0:\n",
    "        prediksi = mean_value + (pembilang / penyebut)\n",
    "        # print(f\"prediks1 {prediksi} = {mean_value} + ({pembilang} / {penyebut})\")\n",
    "    else:\n",
    "        prediksi = mean_value\n",
    "    return [item, float(prediksi)]"
   ]
  },
  {
   "cell_type": "code",
   "execution_count": 77,
   "metadata": {},
   "outputs": [
    {
     "name": "stdout",
     "output_type": "stream",
     "text": [
      "sim scores [0.33333333 0.33333333 0.5        0.33333333]\n",
      "sorted idx [2 0 1 3]\n",
      "top neighbors [3, 1, 2, 4]\n",
      "sim scores2 [0.5        0.33333333 0.33333333 0.33333333]\n"
     ]
    },
    {
     "data": {
      "text/plain": [
       "[1, 3.0]"
      ]
     },
     "execution_count": 77,
     "metadata": {},
     "output_type": "execute_result"
    }
   ],
   "source": [
    "calPrediksiItem = prediksiCF_v2(dfToyData, cal_SimItemJaccard, cal_MeanItem, cal_MeanCenteredItemTranpose, user=0, item=1, k=10, jenis=\"item-based\")\n",
    "calPrediksiItem"
   ]
  },
  {
   "cell_type": "code",
   "execution_count": null,
   "metadata": {},
   "outputs": [],
   "source": [
    "# import numpy as np\n",
    "# import pandas as pd\n",
    "\n",
    "# def TetanggaK4(target_user, target_item, rating_matrix_np, similarity_np, k, jenis=\"user-based\"):\n",
    "#     \"\"\"\n",
    "#     Mengembalikan indeks K tetangga terdekat (user atau item) berdasarkan similarity.\n",
    "#     \"\"\"\n",
    "#     rating_matrix = rating_matrix_np\n",
    "#     if jenis == \"user-based\":\n",
    "#         # Ambil semua rating terhadap item target\n",
    "#         item_ratings = rating_matrix[:, target_item]\n",
    "#         # User yang pernah memberi rating terhadap item tersebut (kecuali user target)\n",
    "#         tetangga_idx = np.where((item_ratings != 0) & (np.arange(len(item_ratings)) != target_user))[0]\n",
    "#         # Ambil skor similarity\n",
    "#         sim_scores = similarity_np[target_user, tetangga_idx]\n",
    "#         # valid_idx = tetangga_idx[rating_matrix_np[tetangga_idx, target_item] != 0]\n",
    "#         # sim_scores = similarity_np[target_user, valid_idx]\n",
    "\n",
    "#     else:  # item-based         \n",
    "#         user_ratings = rating_matrix[target_user, :]\n",
    "#         tetangga_idx = np.where((user_ratings != 0) & (np.arange(len(user_ratings)) != target_item))[0]\n",
    "#         sim_scores = similarity_np[tetangga_idx, target_item]\n",
    "#         # valid_idx = tetangga_idx[rating_matrix_np[target_user, tetangga_idx] != 0]\n",
    "#         # sim_scores = similarity_np[valid_idx, target_item]\n",
    "#     # Urutkan tetangga berdasarkan similarity tertinggi\n",
    "#     if len(sim_scores) == 0:\n",
    "#         return []\n",
    "#     sorted_idx = np.argsort(-sim_scores)[:k]\n",
    "#     print(f\"sorted idx {sorted_idx}\")\n",
    "#     print(f\"sim from soreted {sorted_idx} {sim_scores[sorted_idx]}\")\n",
    "#     print(f\"tetangga idx {tetangga_idx[sorted_idx]}\")\n",
    "#     return tetangga_idx[sorted_idx]\n",
    "\n"
   ]
  },
  {
   "cell_type": "code",
   "execution_count": null,
   "metadata": {},
   "outputs": [],
   "source": [
    "# def prediksiCF_v2_optimized(RatingMatriks, similarityFunction, mean, meanCen, user, item, k=2, jenis=\"user-based\"):\n",
    "#     \"\"\"\n",
    "#     Menghitung prediksi rating menggunakan Collaborative Filtering berbasis user/item, versi optimal.\n",
    "#     \"\"\"\n",
    "\n",
    "#     # Cache ke bentuk NumPy (lebih cepat)\n",
    "#     rating_np = RatingMatriks.values\n",
    "#     similarity_np = similarityFunction.values\n",
    "#     mean_np = mean.values\n",
    "#     meanCen_np = meanCen.values\n",
    "\n",
    "#     # Tetapkan target user dan item sesuai jenis\n",
    "#     target_user, target_item = (user, item) if jenis == \"user-based\" else (item, user)\n",
    "#     mean_value = mean_np[user if jenis == \"user-based\" else item]\n",
    "\n",
    "#     # Cari tetangga terdekat\n",
    "#     tetangga = TetanggaK4(target_user, target_item, rating_np, similarity_np, k, jenis)\n",
    "\n",
    "#     if len(tetangga) == 0:\n",
    "#         return float(mean_value)\n",
    "\n",
    "#     # Vektorisasi similarity dan mean centered rating\n",
    "#     if jenis == \"user-based\":\n",
    "#         sim = similarity_np[user, tetangga]\n",
    "#         mean_cen = meanCen_np[tetangga, item]\n",
    "#     else:\n",
    "#         sim = similarity_np[tetangga, item]\n",
    "#         mean_cen = meanCen_np[user, tetangga]\n",
    "\n",
    "#     # Hitung prediksi\n",
    "#     pembilang = np.dot(mean_cen, sim)\n",
    "#     penyebut = np.sum(np.abs(sim))\n",
    "\n",
    "#     prediksi = mean_value + (pembilang / penyebut) if penyebut != 0 else mean_value\n",
    "#     return float(prediksi)\n"
   ]
  },
  {
   "cell_type": "code",
   "execution_count": 79,
   "metadata": {},
   "outputs": [
    {
     "name": "stdout",
     "output_type": "stream",
     "text": [
      "sorted idx [2 0 1 3]\n",
      "sim from soreted [2 0 1 3] [0.5        0.33333333 0.33333333 0.33333333]\n",
      "tetangga idx [3 1 2 4]\n",
      "Prediksi rating untuk user-1 pada item-2: 3.0\n"
     ]
    }
   ],
   "source": [
    "calPrediksiv2 = prediksiCF_v2_optimized(dfToyData, cal_SimItemJaccard, cal_MeanItem, cal_MeanCenteredItemTranpose, user=0, item=1, k=10, jenis=\"item-based\")\n",
    "print(f\"Prediksi rating untuk user-1 pada item-2: {calPrediksiv2}\")"
   ]
  },
  {
   "cell_type": "markdown",
   "metadata": {},
   "source": [
    "### PREDIKSI KESELURUHAN "
   ]
  },
  {
   "cell_type": "code",
   "execution_count": 32,
   "metadata": {},
   "outputs": [],
   "source": [
    "def hitungKeseluruhanPrediksi(RatingMatriks, similarityFunction, mean, meanCen, k=2, jenis=\"userBased\"):\n",
    "    # Membuat DataFrame kosong untuk menyimpan prediksi\n",
    "    # prediksiMatriks = pd.DataFrame(index=RatingMatriks.index, columns=RatingMatriks.columns)\n",
    "    prediksiMatriks = RatingMatriks.copy()\n",
    "    \n",
    "    # Iterasi untuk setiap user dan item dalam matriks rating\n",
    "    #baris\n",
    "    for user in RatingMatriks.index:\n",
    "        #kolom\n",
    "        for item in RatingMatriks.columns:\n",
    "            # Cek apakah rating untuk (user, item) adalah 0 atau tidak ada rating\n",
    "            if RatingMatriks.loc[user, item] == 0:\n",
    "                # Jika tidak ada rating, prediksi nilai rating menggunakan Collaborative Filtering\n",
    "                prediksiMatriks.loc[user, item] = prediksiCF_v2(\n",
    "                    RatingMatriks,\n",
    "                    similarityFunction,\n",
    "                    mean,\n",
    "                    meanCen,\n",
    "                    user=user,\n",
    "                    item=item,\n",
    "                    k=k,\n",
    "                    jenis=jenis\n",
    "                )[1]\n",
    "            else:\n",
    "                # Jika sudah ada rating, simpan rating asli dari RatingMatriks\n",
    "                prediksiMatriks.loc[user, item] = RatingMatriks.loc[user, item]\n",
    "    return prediksiMatriks\n"
   ]
  },
  {
   "cell_type": "code",
   "execution_count": 33,
   "metadata": {},
   "outputs": [
    {
     "name": "stdout",
     "output_type": "stream",
     "text": [
      "Index user: 0\n",
      "Jumlah user: 4\n",
      "Target user: 0\n",
      "Target item: 1\n",
      "[0, 3]\n",
      "filter index [1, 2]\n",
      "sim [0.16666667 0.2       ]\n",
      "top k [1 0]\n",
      "Nama tetangga: user-3\n",
      "Nama tetangga: user-2\n",
      "Index user: 0\n",
      "Jumlah user: 4\n",
      "Target user: 0\n",
      "Target item: 2\n",
      "[0, 3]\n",
      "filter index [1, 2]\n",
      "sim [0.16666667 0.2       ]\n",
      "top k [1 0]\n",
      "Nama tetangga: user-3\n",
      "Nama tetangga: user-2\n",
      "Index user: 0\n",
      "Jumlah user: 4\n",
      "Target user: 0\n",
      "Target item: 3\n",
      "[0, 2, 3]\n",
      "filter index [1]\n",
      "sim [0.16666667]\n",
      "top k [0]\n",
      "Nama tetangga: user-2\n",
      "Index user: 0\n",
      "Jumlah user: 4\n",
      "Target user: 0\n",
      "Target item: 4\n",
      "[0, 2]\n",
      "filter index [1, 3]\n",
      "sim [0.16666667 0.25      ]\n",
      "top k [1 0]\n",
      "Nama tetangga: user-4\n",
      "Nama tetangga: user-2\n",
      "Index user: 0\n",
      "Jumlah user: 4\n",
      "Target user: 0\n",
      "Target item: 5\n",
      "[0, 1]\n",
      "filter index [2, 3]\n",
      "sim [0.2  0.25]\n",
      "top k [1 0]\n",
      "Nama tetangga: user-4\n",
      "Nama tetangga: user-3\n",
      "Index user: 1\n",
      "Jumlah user: 4\n",
      "Target user: 1\n",
      "Target item: 5\n",
      "[0, 1]\n",
      "filter index [2, 3]\n",
      "sim [0.28571429 0.14285714]\n",
      "top k [0 1]\n",
      "Nama tetangga: user-3\n",
      "Nama tetangga: user-4\n",
      "Index user: 1\n",
      "Jumlah user: 4\n",
      "Target user: 1\n",
      "Target item: 6\n",
      "[1]\n",
      "filter index [0, 2, 3]\n",
      "sim [0.16666667 0.28571429 0.14285714]\n",
      "top k [1 0]\n",
      "Nama tetangga: user-3\n",
      "Nama tetangga: user-1\n",
      "Index user: 2\n",
      "Jumlah user: 4\n",
      "Target user: 2\n",
      "Target item: 0\n",
      "[2, 3]\n",
      "filter index [0, 1]\n",
      "sim [0.2        0.28571429]\n",
      "top k [1 0]\n",
      "Nama tetangga: user-2\n",
      "Nama tetangga: user-1\n",
      "Index user: 2\n",
      "Jumlah user: 4\n",
      "Target user: 2\n",
      "Target item: 3\n",
      "[0, 2, 3]\n",
      "filter index [1]\n",
      "sim [0.28571429]\n",
      "top k [0]\n",
      "Nama tetangga: user-2\n",
      "Index user: 2\n",
      "Jumlah user: 4\n",
      "Target user: 2\n",
      "Target item: 4\n",
      "[0, 2]\n",
      "filter index [1, 3]\n",
      "sim [0.28571429 0.4       ]\n",
      "top k [1 0]\n",
      "Nama tetangga: user-4\n",
      "Nama tetangga: user-2\n",
      "Index user: 3\n",
      "Jumlah user: 4\n",
      "Target user: 3\n",
      "Target item: 0\n",
      "[2, 3]\n",
      "filter index [0, 1]\n",
      "sim [0.25       0.14285714]\n",
      "top k [0 1]\n",
      "Nama tetangga: user-1\n",
      "Nama tetangga: user-2\n",
      "Index user: 3\n",
      "Jumlah user: 4\n",
      "Target user: 3\n",
      "Target item: 1\n",
      "[0, 3]\n",
      "filter index [1, 2]\n",
      "sim [0.14285714 0.4       ]\n",
      "top k [1 0]\n",
      "Nama tetangga: user-3\n",
      "Nama tetangga: user-2\n",
      "Index user: 3\n",
      "Jumlah user: 4\n",
      "Target user: 3\n",
      "Target item: 2\n",
      "[0, 3]\n",
      "filter index [1, 2]\n",
      "sim [0.14285714 0.4       ]\n",
      "top k [1 0]\n",
      "Nama tetangga: user-3\n",
      "Nama tetangga: user-2\n",
      "Index user: 3\n",
      "Jumlah user: 4\n",
      "Target user: 3\n",
      "Target item: 3\n",
      "[0, 2, 3]\n",
      "filter index [1]\n",
      "sim [0.14285714]\n",
      "top k [0]\n",
      "Nama tetangga: user-2\n"
     ]
    },
    {
     "data": {
      "text/html": [
       "<div>\n",
       "<style scoped>\n",
       "    .dataframe tbody tr th:only-of-type {\n",
       "        vertical-align: middle;\n",
       "    }\n",
       "\n",
       "    .dataframe tbody tr th {\n",
       "        vertical-align: top;\n",
       "    }\n",
       "\n",
       "    .dataframe thead th {\n",
       "        text-align: right;\n",
       "    }\n",
       "</style>\n",
       "<table border=\"1\" class=\"dataframe\">\n",
       "  <thead>\n",
       "    <tr style=\"text-align: right;\">\n",
       "      <th></th>\n",
       "      <th>item-1</th>\n",
       "      <th>item-2</th>\n",
       "      <th>item-3</th>\n",
       "      <th>item-4</th>\n",
       "      <th>item-5</th>\n",
       "      <th>item-6</th>\n",
       "      <th>item-7</th>\n",
       "    </tr>\n",
       "  </thead>\n",
       "  <tbody>\n",
       "    <tr>\n",
       "      <th>user-1</th>\n",
       "      <td>3.000000</td>\n",
       "      <td>3.090909</td>\n",
       "      <td>2.363636</td>\n",
       "      <td>2.30</td>\n",
       "      <td>2.420000</td>\n",
       "      <td>1.611111</td>\n",
       "      <td>2.000000</td>\n",
       "    </tr>\n",
       "    <tr>\n",
       "      <th>user-2</th>\n",
       "      <td>1.000000</td>\n",
       "      <td>2.000000</td>\n",
       "      <td>4.000000</td>\n",
       "      <td>2.00</td>\n",
       "      <td>2.000000</td>\n",
       "      <td>1.366667</td>\n",
       "      <td>2.805263</td>\n",
       "    </tr>\n",
       "    <tr>\n",
       "      <th>user-3</th>\n",
       "      <td>2.250000</td>\n",
       "      <td>4.000000</td>\n",
       "      <td>1.000000</td>\n",
       "      <td>2.55</td>\n",
       "      <td>2.666667</td>\n",
       "      <td>2.000000</td>\n",
       "      <td>4.000000</td>\n",
       "    </tr>\n",
       "    <tr>\n",
       "      <th>user-4</th>\n",
       "      <td>2.881818</td>\n",
       "      <td>3.868421</td>\n",
       "      <td>2.184211</td>\n",
       "      <td>2.80</td>\n",
       "      <td>3.000000</td>\n",
       "      <td>2.000000</td>\n",
       "      <td>4.000000</td>\n",
       "    </tr>\n",
       "  </tbody>\n",
       "</table>\n",
       "</div>"
      ],
      "text/plain": [
       "          item-1    item-2    item-3  item-4    item-5    item-6    item-7\n",
       "user-1  3.000000  3.090909  2.363636    2.30  2.420000  1.611111  2.000000\n",
       "user-2  1.000000  2.000000  4.000000    2.00  2.000000  1.366667  2.805263\n",
       "user-3  2.250000  4.000000  1.000000    2.55  2.666667  2.000000  4.000000\n",
       "user-4  2.881818  3.868421  2.184211    2.80  3.000000  2.000000  4.000000"
      ]
     },
     "execution_count": 33,
     "metadata": {},
     "output_type": "execute_result"
    }
   ],
   "source": [
    "cal_HitungAlUser = hitungKeseluruhanPrediksi(dfToyData, cal_SimUserJaccard, cal_MeanUser, cal_MeanCenteredUser, k=2, jenis=\"userBased\")\n",
    "cal_HitungAlUser"
   ]
  },
  {
   "cell_type": "code",
   "execution_count": 34,
   "metadata": {},
   "outputs": [
    {
     "name": "stdout",
     "output_type": "stream",
     "text": [
      "top k [0 1]\n",
      "top k [0 1]\n",
      "top k [0 1]\n",
      "top k [0 1]\n",
      "top k [1 0]\n",
      "top k [1 2]\n",
      "top k [0 1]\n",
      "top k [0 1]\n",
      "top k [0 1]\n",
      "top k [0 1]\n",
      "top k [0 2]\n",
      "top k [0 1]\n",
      "top k [0 1]\n",
      "top k [0 1]\n"
     ]
    },
    {
     "data": {
      "text/html": [
       "<div>\n",
       "<style scoped>\n",
       "    .dataframe tbody tr th:only-of-type {\n",
       "        vertical-align: middle;\n",
       "    }\n",
       "\n",
       "    .dataframe tbody tr th {\n",
       "        vertical-align: top;\n",
       "    }\n",
       "\n",
       "    .dataframe thead th {\n",
       "        text-align: right;\n",
       "    }\n",
       "</style>\n",
       "<table border=\"1\" class=\"dataframe\">\n",
       "  <thead>\n",
       "    <tr style=\"text-align: right;\">\n",
       "      <th></th>\n",
       "      <th>item-1</th>\n",
       "      <th>item-2</th>\n",
       "      <th>item-3</th>\n",
       "      <th>item-4</th>\n",
       "      <th>item-5</th>\n",
       "      <th>item-6</th>\n",
       "      <th>item-7</th>\n",
       "    </tr>\n",
       "  </thead>\n",
       "  <tbody>\n",
       "    <tr>\n",
       "      <th>user-1</th>\n",
       "      <td>3.000000</td>\n",
       "      <td>3.00</td>\n",
       "      <td>2.50</td>\n",
       "      <td>3.00</td>\n",
       "      <td>2.50</td>\n",
       "      <td>0.666667</td>\n",
       "      <td>2.000000</td>\n",
       "    </tr>\n",
       "    <tr>\n",
       "      <th>user-2</th>\n",
       "      <td>1.000000</td>\n",
       "      <td>2.00</td>\n",
       "      <td>4.00</td>\n",
       "      <td>2.00</td>\n",
       "      <td>2.00</td>\n",
       "      <td>2.250000</td>\n",
       "      <td>2.333333</td>\n",
       "    </tr>\n",
       "    <tr>\n",
       "      <th>user-3</th>\n",
       "      <td>1.750000</td>\n",
       "      <td>4.00</td>\n",
       "      <td>1.00</td>\n",
       "      <td>1.75</td>\n",
       "      <td>2.25</td>\n",
       "      <td>2.000000</td>\n",
       "      <td>4.000000</td>\n",
       "    </tr>\n",
       "    <tr>\n",
       "      <th>user-4</th>\n",
       "      <td>2.571429</td>\n",
       "      <td>3.25</td>\n",
       "      <td>2.75</td>\n",
       "      <td>2.50</td>\n",
       "      <td>3.00</td>\n",
       "      <td>2.000000</td>\n",
       "      <td>4.000000</td>\n",
       "    </tr>\n",
       "  </tbody>\n",
       "</table>\n",
       "</div>"
      ],
      "text/plain": [
       "          item-1  item-2  item-3  item-4  item-5    item-6    item-7\n",
       "user-1  3.000000    3.00    2.50    3.00    2.50  0.666667  2.000000\n",
       "user-2  1.000000    2.00    4.00    2.00    2.00  2.250000  2.333333\n",
       "user-3  1.750000    4.00    1.00    1.75    2.25  2.000000  4.000000\n",
       "user-4  2.571429    3.25    2.75    2.50    3.00  2.000000  4.000000"
      ]
     },
     "execution_count": 34,
     "metadata": {},
     "output_type": "execute_result"
    }
   ],
   "source": [
    "cal__HitungAllItem = hitungKeseluruhanPrediksi(dfToyData, cal_SimItemJaccard, cal_MeanItem, cal_MeanCenteredItemTranpose, k=2, jenis=\"itemBased\")\n",
    "cal__HitungAllItem"
   ]
  },
  {
   "cell_type": "markdown",
   "metadata": {},
   "source": [
    "## HYBRID"
   ]
  },
  {
   "cell_type": "code",
   "execution_count": 35,
   "metadata": {},
   "outputs": [],
   "source": [
    "def HybridFiltering(PrediksiUser, PrediksiItem, gamma=0.7):\n",
    "    # Mengonversi ke numpy array\n",
    "    # prediksiUser = np.array(PrediksiUser)\n",
    "    # print(\"prediksi user\", prediksiUser)\n",
    "    # prediksiItem = np.array(PrediksiItem)\n",
    "    # print(\"prediksi item\", prediksiItem)\n",
    "    # Menghitung prediksi hybrid\n",
    "    rumusHybrid = (gamma * PrediksiUser) + ((1 - gamma) * PrediksiItem)  \n",
    "\n",
    "    return rumusHybrid\n"
   ]
  },
  {
   "cell_type": "code",
   "execution_count": 36,
   "metadata": {},
   "outputs": [
    {
     "data": {
      "text/html": [
       "<div>\n",
       "<style scoped>\n",
       "    .dataframe tbody tr th:only-of-type {\n",
       "        vertical-align: middle;\n",
       "    }\n",
       "\n",
       "    .dataframe tbody tr th {\n",
       "        vertical-align: top;\n",
       "    }\n",
       "\n",
       "    .dataframe thead th {\n",
       "        text-align: right;\n",
       "    }\n",
       "</style>\n",
       "<table border=\"1\" class=\"dataframe\">\n",
       "  <thead>\n",
       "    <tr style=\"text-align: right;\">\n",
       "      <th></th>\n",
       "      <th>item-1</th>\n",
       "      <th>item-2</th>\n",
       "      <th>item-3</th>\n",
       "      <th>item-4</th>\n",
       "      <th>item-5</th>\n",
       "      <th>item-6</th>\n",
       "      <th>item-7</th>\n",
       "    </tr>\n",
       "  </thead>\n",
       "  <tbody>\n",
       "    <tr>\n",
       "      <th>user-1</th>\n",
       "      <td>3.000000</td>\n",
       "      <td>3.063636</td>\n",
       "      <td>2.404545</td>\n",
       "      <td>2.51</td>\n",
       "      <td>2.444000</td>\n",
       "      <td>1.327778</td>\n",
       "      <td>2.000000</td>\n",
       "    </tr>\n",
       "    <tr>\n",
       "      <th>user-2</th>\n",
       "      <td>1.000000</td>\n",
       "      <td>2.000000</td>\n",
       "      <td>4.000000</td>\n",
       "      <td>2.00</td>\n",
       "      <td>2.000000</td>\n",
       "      <td>1.631667</td>\n",
       "      <td>2.663684</td>\n",
       "    </tr>\n",
       "    <tr>\n",
       "      <th>user-3</th>\n",
       "      <td>2.100000</td>\n",
       "      <td>4.000000</td>\n",
       "      <td>1.000000</td>\n",
       "      <td>2.31</td>\n",
       "      <td>2.541667</td>\n",
       "      <td>2.000000</td>\n",
       "      <td>4.000000</td>\n",
       "    </tr>\n",
       "    <tr>\n",
       "      <th>user-4</th>\n",
       "      <td>2.788701</td>\n",
       "      <td>3.682895</td>\n",
       "      <td>2.353947</td>\n",
       "      <td>2.71</td>\n",
       "      <td>3.000000</td>\n",
       "      <td>2.000000</td>\n",
       "      <td>4.000000</td>\n",
       "    </tr>\n",
       "  </tbody>\n",
       "</table>\n",
       "</div>"
      ],
      "text/plain": [
       "          item-1    item-2    item-3  item-4    item-5    item-6    item-7\n",
       "user-1  3.000000  3.063636  2.404545    2.51  2.444000  1.327778  2.000000\n",
       "user-2  1.000000  2.000000  4.000000    2.00  2.000000  1.631667  2.663684\n",
       "user-3  2.100000  4.000000  1.000000    2.31  2.541667  2.000000  4.000000\n",
       "user-4  2.788701  3.682895  2.353947    2.71  3.000000  2.000000  4.000000"
      ]
     },
     "execution_count": 36,
     "metadata": {},
     "output_type": "execute_result"
    }
   ],
   "source": [
    "cal_HybridJac = HybridFiltering(cal_HitungAlUser, cal__HitungAllItem, gamma=0.7)\n",
    "cal_HybridJac"
   ]
  },
  {
   "cell_type": "code",
   "execution_count": 37,
   "metadata": {},
   "outputs": [
    {
     "ename": "KeyError",
     "evalue": "0",
     "output_type": "error",
     "traceback": [
      "\u001b[1;31m---------------------------------------------------------------------------\u001b[0m",
      "\u001b[1;31mKeyError\u001b[0m                                  Traceback (most recent call last)",
      "\u001b[1;32mc:\\Users\\ASUS\\AppData\\Local\\Programs\\Python\\Python39\\lib\\site-packages\\pandas\\core\\indexes\\base.py\u001b[0m in \u001b[0;36mget_loc\u001b[1;34m(self, key, method, tolerance)\u001b[0m\n\u001b[0;32m   3801\u001b[0m             \u001b[1;32mtry\u001b[0m\u001b[1;33m:\u001b[0m\u001b[1;33m\u001b[0m\u001b[1;33m\u001b[0m\u001b[0m\n\u001b[1;32m-> 3802\u001b[1;33m                 \u001b[1;32mreturn\u001b[0m \u001b[0mself\u001b[0m\u001b[1;33m.\u001b[0m\u001b[0m_engine\u001b[0m\u001b[1;33m.\u001b[0m\u001b[0mget_loc\u001b[0m\u001b[1;33m(\u001b[0m\u001b[0mcasted_key\u001b[0m\u001b[1;33m)\u001b[0m\u001b[1;33m\u001b[0m\u001b[1;33m\u001b[0m\u001b[0m\n\u001b[0m\u001b[0;32m   3803\u001b[0m             \u001b[1;32mexcept\u001b[0m \u001b[0mKeyError\u001b[0m \u001b[1;32mas\u001b[0m \u001b[0merr\u001b[0m\u001b[1;33m:\u001b[0m\u001b[1;33m\u001b[0m\u001b[1;33m\u001b[0m\u001b[0m\n",
      "\u001b[1;32mc:\\Users\\ASUS\\AppData\\Local\\Programs\\Python\\Python39\\lib\\site-packages\\pandas\\_libs\\index.pyx\u001b[0m in \u001b[0;36mpandas._libs.index.IndexEngine.get_loc\u001b[1;34m()\u001b[0m\n",
      "\u001b[1;32mc:\\Users\\ASUS\\AppData\\Local\\Programs\\Python\\Python39\\lib\\site-packages\\pandas\\_libs\\index.pyx\u001b[0m in \u001b[0;36mpandas._libs.index.IndexEngine.get_loc\u001b[1;34m()\u001b[0m\n",
      "\u001b[1;32mpandas\\_libs\\hashtable_class_helper.pxi\u001b[0m in \u001b[0;36mpandas._libs.hashtable.PyObjectHashTable.get_item\u001b[1;34m()\u001b[0m\n",
      "\u001b[1;32mpandas\\_libs\\hashtable_class_helper.pxi\u001b[0m in \u001b[0;36mpandas._libs.hashtable.PyObjectHashTable.get_item\u001b[1;34m()\u001b[0m\n",
      "\u001b[1;31mKeyError\u001b[0m: 0",
      "\nThe above exception was the direct cause of the following exception:\n",
      "\u001b[1;31mKeyError\u001b[0m                                  Traceback (most recent call last)",
      "\u001b[1;32m~\\AppData\\Local\\Temp/ipykernel_59332/96107483.py\u001b[0m in \u001b[0;36m<module>\u001b[1;34m\u001b[0m\n\u001b[1;32m----> 1\u001b[1;33m \u001b[0mprediksi_hybrid_user1\u001b[0m \u001b[1;33m=\u001b[0m \u001b[0mcal_HybridJac\u001b[0m\u001b[1;33m[\u001b[0m\u001b[1;36m0\u001b[0m\u001b[1;33m]\u001b[0m\u001b[1;33m\u001b[0m\u001b[1;33m\u001b[0m\u001b[0m\n\u001b[0m\u001b[0;32m      2\u001b[0m \u001b[0mprint\u001b[0m\u001b[1;33m(\u001b[0m\u001b[1;34m\"Hybrid Prediction for User-1:\"\u001b[0m\u001b[1;33m,\u001b[0m \u001b[0mprediksi_hybrid_user1\u001b[0m\u001b[1;33m)\u001b[0m\u001b[1;33m\u001b[0m\u001b[1;33m\u001b[0m\u001b[0m\n",
      "\u001b[1;32mc:\\Users\\ASUS\\AppData\\Local\\Programs\\Python\\Python39\\lib\\site-packages\\pandas\\core\\frame.py\u001b[0m in \u001b[0;36m__getitem__\u001b[1;34m(self, key)\u001b[0m\n\u001b[0;32m   3805\u001b[0m             \u001b[1;32mif\u001b[0m \u001b[0mself\u001b[0m\u001b[1;33m.\u001b[0m\u001b[0mcolumns\u001b[0m\u001b[1;33m.\u001b[0m\u001b[0mnlevels\u001b[0m \u001b[1;33m>\u001b[0m \u001b[1;36m1\u001b[0m\u001b[1;33m:\u001b[0m\u001b[1;33m\u001b[0m\u001b[1;33m\u001b[0m\u001b[0m\n\u001b[0;32m   3806\u001b[0m                 \u001b[1;32mreturn\u001b[0m \u001b[0mself\u001b[0m\u001b[1;33m.\u001b[0m\u001b[0m_getitem_multilevel\u001b[0m\u001b[1;33m(\u001b[0m\u001b[0mkey\u001b[0m\u001b[1;33m)\u001b[0m\u001b[1;33m\u001b[0m\u001b[1;33m\u001b[0m\u001b[0m\n\u001b[1;32m-> 3807\u001b[1;33m             \u001b[0mindexer\u001b[0m \u001b[1;33m=\u001b[0m \u001b[0mself\u001b[0m\u001b[1;33m.\u001b[0m\u001b[0mcolumns\u001b[0m\u001b[1;33m.\u001b[0m\u001b[0mget_loc\u001b[0m\u001b[1;33m(\u001b[0m\u001b[0mkey\u001b[0m\u001b[1;33m)\u001b[0m\u001b[1;33m\u001b[0m\u001b[1;33m\u001b[0m\u001b[0m\n\u001b[0m\u001b[0;32m   3808\u001b[0m             \u001b[1;32mif\u001b[0m \u001b[0mis_integer\u001b[0m\u001b[1;33m(\u001b[0m\u001b[0mindexer\u001b[0m\u001b[1;33m)\u001b[0m\u001b[1;33m:\u001b[0m\u001b[1;33m\u001b[0m\u001b[1;33m\u001b[0m\u001b[0m\n\u001b[0;32m   3809\u001b[0m                 \u001b[0mindexer\u001b[0m \u001b[1;33m=\u001b[0m \u001b[1;33m[\u001b[0m\u001b[0mindexer\u001b[0m\u001b[1;33m]\u001b[0m\u001b[1;33m\u001b[0m\u001b[1;33m\u001b[0m\u001b[0m\n",
      "\u001b[1;32mc:\\Users\\ASUS\\AppData\\Local\\Programs\\Python\\Python39\\lib\\site-packages\\pandas\\core\\indexes\\base.py\u001b[0m in \u001b[0;36mget_loc\u001b[1;34m(self, key, method, tolerance)\u001b[0m\n\u001b[0;32m   3802\u001b[0m                 \u001b[1;32mreturn\u001b[0m \u001b[0mself\u001b[0m\u001b[1;33m.\u001b[0m\u001b[0m_engine\u001b[0m\u001b[1;33m.\u001b[0m\u001b[0mget_loc\u001b[0m\u001b[1;33m(\u001b[0m\u001b[0mcasted_key\u001b[0m\u001b[1;33m)\u001b[0m\u001b[1;33m\u001b[0m\u001b[1;33m\u001b[0m\u001b[0m\n\u001b[0;32m   3803\u001b[0m             \u001b[1;32mexcept\u001b[0m \u001b[0mKeyError\u001b[0m \u001b[1;32mas\u001b[0m \u001b[0merr\u001b[0m\u001b[1;33m:\u001b[0m\u001b[1;33m\u001b[0m\u001b[1;33m\u001b[0m\u001b[0m\n\u001b[1;32m-> 3804\u001b[1;33m                 \u001b[1;32mraise\u001b[0m \u001b[0mKeyError\u001b[0m\u001b[1;33m(\u001b[0m\u001b[0mkey\u001b[0m\u001b[1;33m)\u001b[0m \u001b[1;32mfrom\u001b[0m \u001b[0merr\u001b[0m\u001b[1;33m\u001b[0m\u001b[1;33m\u001b[0m\u001b[0m\n\u001b[0m\u001b[0;32m   3805\u001b[0m             \u001b[1;32mexcept\u001b[0m \u001b[0mTypeError\u001b[0m\u001b[1;33m:\u001b[0m\u001b[1;33m\u001b[0m\u001b[1;33m\u001b[0m\u001b[0m\n\u001b[0;32m   3806\u001b[0m                 \u001b[1;31m# If we have a listlike key, _check_indexing_error will raise\u001b[0m\u001b[1;33m\u001b[0m\u001b[1;33m\u001b[0m\u001b[0m\n",
      "\u001b[1;31mKeyError\u001b[0m: 0"
     ]
    }
   ],
   "source": [
    "prediksi_hybrid_user1 = cal_HybridJac[0]\n",
    "print(\"Hybrid Prediction for User-1:\", prediksi_hybrid_user1)"
   ]
  },
  {
   "cell_type": "code",
   "execution_count": null,
   "metadata": {},
   "outputs": [],
   "source": [
    "def TopNRecommendation(rekomendasiHybrid, N=5):\n",
    "    topN_per_user = np.argsort(-rekomendasiHybrid, axis=1)[:N]+1\n",
    "    # tolist\n",
    "    topN_per_user = topN_per_user.tolist()\n",
    "\n",
    "    return topN_per_user\n"
   ]
  },
  {
   "cell_type": "code",
   "execution_count": null,
   "metadata": {},
   "outputs": [
    {
     "data": {
      "text/plain": [
       "[[2, 1, 4, 5, 3, 7, 6],\n",
       " [3, 7, 2, 4, 5, 6, 1],\n",
       " [2, 7, 5, 4, 1, 6, 3],\n",
       " [7, 2, 5, 1, 4, 3, 6]]"
      ]
     },
     "execution_count": 35,
     "metadata": {},
     "output_type": "execute_result"
    }
   ],
   "source": [
    "calTpn = TopNRecommendation(cal_HybridJac)\n",
    "calTpn"
   ]
  },
  {
   "cell_type": "code",
   "execution_count": null,
   "metadata": {},
   "outputs": [],
   "source": [
    "def FullRecommendation(prediksi_matrix):\n",
    "    ranking_per_user = np.argsort(-prediksi_matrix, axis=1)+1\n",
    "    return ranking_per_user"
   ]
  },
  {
   "cell_type": "markdown",
   "metadata": {},
   "source": [
    "## TOP N REKOMENDASI V2"
   ]
  },
  {
   "cell_type": "code",
   "execution_count": null,
   "metadata": {},
   "outputs": [],
   "source": [
    "def getTopNRekomendasiV3(prediksiHybrid, ratingMatrix, user_index, N=5):\n",
    "    #ambil seluruh prediksi user dan rating user. array\n",
    "    pred_user = prediksiHybrid.iloc[user_index].values\n",
    "    # print(\"prediksi user\", pred_user)\n",
    "    rating_user = ratingMatrix.iloc[user_index].values\n",
    "    # print(\"rating user\", rating_user)\n",
    "    # Item yang belum dirating (nilai 0 atau NaN)\n",
    "\n",
    "    if np.issubdtype(rating_user.dtype, np.number):\n",
    "        belum_dirating_idx = np.where(rating_user == 0)[0]\n",
    "        # print(\"belum dirating\", belum_dirating_idx)\n",
    "    else:\n",
    "        belum_dirating_idx = np.where(pd.isna(rating_user))[0]\n",
    "        print(\"belum dirating\", belum_dirating_idx)\n",
    "    # Prediksi hanya untuk item yang belum dirating, array float\n",
    "    pred_belum_dirating = pred_user[belum_dirating_idx]\n",
    "    # array numpy, amhil yang belum dirating, ambil topN yang belum dirating\n",
    "    top_indices = pred_belum_dirating.argsort()[::-1][:N] # membalik urutan, ambil N pertama\n",
    "    top_item_ids = prediksiHybrid.columns.to_numpy()[belum_dirating_idx][top_indices]\n",
    "    #array\n",
    "    return list(top_item_ids)\n"
   ]
  },
  {
   "cell_type": "code",
   "execution_count": null,
   "metadata": {},
   "outputs": [
    {
     "name": "stdout",
     "output_type": "stream",
     "text": [
      "Top-N recommendations for user-1: ['item-2', 'item-4', 'item-5']\n"
     ]
    }
   ],
   "source": [
    "topNRekomendasiTopN = getTopNRekomendasiV3(cal_HybridJaccard, dfToyData, 0, N=3)\n",
    "print(f\"Top-N recommendations for user-1: {topNRekomendasiTopN}\")"
   ]
  },
  {
   "cell_type": "code",
   "execution_count": null,
   "metadata": {},
   "outputs": [],
   "source": [
    "def getTopNRekomendasiV2(prediksiHybrid, ratingMatrix, user_index, N=5):\n",
    "    pred_user = prediksiHybrid.iloc[user_index].values\n",
    "    rating_user = ratingMatrix.iloc[user_index].values\n",
    "    # Item yang belum dirating (nilai 0 atau NaN)\n",
    "    if np.issubdtype(rating_user.dtype, np.number):\n",
    "        belum_dirating_idx = np.where(rating_user == 0)[0]\n",
    "    else:\n",
    "        belum_dirating_idx = np.where(pd.isna(rating_user))[0]\n",
    "    # Prediksi hanya untuk item yang belum dirating\n",
    "    pred_belum_dirating = pred_user[belum_dirating_idx]\n",
    "    # Urutkan dari skor tertinggi\n",
    "    top_indices = pred_belum_dirating.argsort()[::-1][:N]\n",
    "    # Ambil ID item asli\n",
    "    top_item_ids = prediksiHybrid.columns.to_numpy()[belum_dirating_idx][top_indices]\n",
    "    # Convert 'item-2' → 2 (kalau item ID masih dalam bentuk string)\n",
    "    def parse_item_id(item):\n",
    "        if isinstance(item, str) and item.startswith(\"item-\"):\n",
    "            return int(item.split(\"-\")[1])\n",
    "        return item  # sudah angka\n",
    "    return [parse_item_id(i) for i in top_item_ids]"
   ]
  },
  {
   "cell_type": "code",
   "execution_count": null,
   "metadata": {},
   "outputs": [
    {
     "data": {
      "text/plain": [
       "[2, 4, 5]"
      ]
     },
     "execution_count": 40,
     "metadata": {},
     "output_type": "execute_result"
    }
   ],
   "source": [
    "cal_GetTopnRekomendasiV2 = getTopNRekomendasiV2(cal_HybridJaccard, dfToyData, 0, N=3)\n",
    "cal_GetTopnRekomendasiV2"
   ]
  },
  {
   "cell_type": "markdown",
   "metadata": {},
   "source": [
    "## NDCG"
   ]
  },
  {
   "cell_type": "code",
   "execution_count": null,
   "metadata": {},
   "outputs": [],
   "source": [
    "# ndcg\n",
    "groundTruth = [1, 2, 3, 4]\n",
    "TopNrek = [1, 5, 2, 3, 15]\n",
    "TopNrek = [1, 5, 2, 3, 15]"
   ]
  },
  {
   "cell_type": "code",
   "execution_count": null,
   "metadata": {},
   "outputs": [],
   "source": [
    "def EvaluasiDCG(GroundTruth, TopNRekomendasi, N):\n",
    "    # Inisialisasi skor DCG (Discounted Cumulative Gain) ke 0.0\n",
    "    dcg_score = 0.0\n",
    "    for i in range(min(N, len(TopNRekomendasi))):\n",
    "        # Jika item rekomendasi ada dalam GroundTruth\n",
    "        if TopNRekomendasi[i] in GroundTruth:\n",
    "            # rumus DCG\n",
    "            dcg_score += 1 / np.log2(i + 2)  \n",
    "            print(f\"Item {TopNRekomendasi[i]} ada di GroundTruth pada posisi {i+1}, DCG: {dcg_score}\")\n",
    "    #return nilai DCG\n",
    "    return dcg_score"
   ]
  },
  {
   "cell_type": "code",
   "execution_count": null,
   "metadata": {},
   "outputs": [
    {
     "name": "stdout",
     "output_type": "stream",
     "text": [
      "Item 2 ada di GroundTruth pada posisi 1, DCG: 1.0\n",
      "Item 4 ada di GroundTruth pada posisi 2, DCG: 1.6309297535714575\n",
      "Nilai DCG: 1.6309297535714575\n"
     ]
    }
   ],
   "source": [
    "cal_DCG = EvaluasiDCG(groundTruth, cal_GetTopnRekomendasiV2, 4)\n",
    "print(f\"Nilai DCG: {cal_DCG}\")"
   ]
  },
  {
   "cell_type": "code",
   "execution_count": null,
   "metadata": {},
   "outputs": [],
   "source": [
    "def EvaluasiIDCG(N):\n",
    "    # Inisialisasi IDCG\n",
    "    idcg = 0.0\n",
    "    # Hitung IDCG untuk N item teratas\n",
    "    for n in range(1, N + 1):\n",
    "        # Menghitung nilai relevansi ideal\n",
    "        relevansi_ideal = 1  # Asumsikan rating tertinggi adalah 1\n",
    "        # Menambahkan ke IDCG dengan formula relevansi/log2 posisi\n",
    "        idcg += relevansi_ideal / math.log2(n + 1)\n",
    "        print(f\"Item ideal pada posisi {n}, IDCG: {idcg}\")\n",
    "    # Mengembalikan nilai IDCG\n",
    "    return idcg"
   ]
  },
  {
   "cell_type": "code",
   "execution_count": null,
   "metadata": {},
   "outputs": [
    {
     "name": "stdout",
     "output_type": "stream",
     "text": [
      "Item ideal pada posisi 1, IDCG: 1.0\n",
      "Item ideal pada posisi 2, IDCG: 1.6309297535714575\n",
      "Item ideal pada posisi 3, IDCG: 2.1309297535714578\n",
      "Item ideal pada posisi 4, IDCG: 2.5616063116448506\n",
      "Nilai IDCG: 2.5616063116448506\n"
     ]
    }
   ],
   "source": [
    "cal_IDCG = EvaluasiIDCG(4)\n",
    "print(f\"Nilai IDCG: {cal_IDCG}\")"
   ]
  },
  {
   "cell_type": "code",
   "execution_count": null,
   "metadata": {},
   "outputs": [],
   "source": [
    "def EvaluasiNDCG(GroundTruth, TopNRekomendasi, N):\n",
    "    # Hitung DCG\n",
    "    dcg = EvaluasiDCG(GroundTruth, TopNRekomendasi, N)\n",
    "    print(f\"Nilai DCG: {dcg}\")\n",
    "    # Hitung IDCG\n",
    "    idcg = EvaluasiIDCG(N)\n",
    "    print(f\"Nilai IDCG: {idcg}\")\n",
    "    # Menghitung NDCG\n",
    "    rumusNDCG = dcg / idcg if idcg != 0 else 0\n",
    "\n",
    "    return rumusNDCG\n"
   ]
  },
  {
   "cell_type": "code",
   "execution_count": null,
   "metadata": {},
   "outputs": [
    {
     "name": "stdout",
     "output_type": "stream",
     "text": [
      "Item 2 ada di GroundTruth pada posisi 1, DCG: 1.0\n",
      "Item 4 ada di GroundTruth pada posisi 2, DCG: 1.6309297535714575\n",
      "Nilai DCG: 1.6309297535714575\n",
      "Item ideal pada posisi 1, IDCG: 1.0\n",
      "Item ideal pada posisi 2, IDCG: 1.6309297535714575\n",
      "Item ideal pada posisi 3, IDCG: 2.1309297535714578\n",
      "Nilai IDCG: 2.1309297535714578\n",
      "Nilai NDCG: 0.7653606369886217\n"
     ]
    }
   ],
   "source": [
    "calNDCG = EvaluasiNDCG(groundTruth, cal_GetTopnRekomendasiV2, 3)\n",
    "print(f\"Nilai NDCG: {calNDCG}\")"
   ]
  }
 ],
 "metadata": {
  "kernelspec": {
   "display_name": "Python 3",
   "language": "python",
   "name": "python3"
  },
  "language_info": {
   "codemirror_mode": {
    "name": "ipython",
    "version": 3
   },
   "file_extension": ".py",
   "mimetype": "text/x-python",
   "name": "python",
   "nbconvert_exporter": "python",
   "pygments_lexer": "ipython3",
   "version": "3.9.7"
  }
 },
 "nbformat": 4,
 "nbformat_minor": 2
}
